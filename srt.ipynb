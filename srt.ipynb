{
 "cells": [
  {
   "cell_type": "markdown",
   "metadata": {},
   "source": [
    "# Merge subtitles \n",
    "\n",
    "I like to watch foreign movies with Chinese subtitles because my English reading is not great. When watching a movie together with English speakers, it's desired to have subtitles both in Chinese and English (if watching, e.g. a Japanese movie). I spent some time looking for a subtitle file that contains both Chinese and English, but was not able to. Therefore, I decide to download two subtitle files in Chinese and English, respectively, then merge them into one file. \n",
    "\n",
    "The code in this notebook combines two subtitle files (.srt) together using the `pysrt` package. It does not check the content and combine every item in order, so manual corrections are necessary. "
   ]
  },
  {
   "cell_type": "code",
   "execution_count": 5,
   "metadata": {},
   "outputs": [],
   "source": [
    "import pysrt\n",
    "import os"
   ]
  },
  {
   "cell_type": "code",
   "execution_count": 3,
   "metadata": {},
   "outputs": [],
   "source": [
    "def merge_srt_files(file1, file2, output_file):\n",
    "    \"\"\"\n",
    "    Merge two SRT subtitle files so that they appear simultaneously.\n",
    "    \n",
    "    Parameters:\n",
    "    file1 (str): Path to the first SRT file.\n",
    "    file2 (str): Path to the second SRT file.\n",
    "    output_file (str): Path to the output merged SRT file.\n",
    "    \"\"\"\n",
    "    # Read the subtitle files\n",
    "    subs1 = pysrt.open(file1)\n",
    "    subs2 = pysrt.open(file2)\n",
    "    \n",
    "    # Create a new subtitle list for the merged subtitles\n",
    "    merged_subs = pysrt.SubRipFile()\n",
    "    \n",
    "    # Determine the longer and shorter subtitle lists\n",
    "    longer_subs, shorter_subs = (subs1, subs2) if len(subs1) > len(subs2) else (subs2, subs1)\n",
    "    \n",
    "    # Iterate over the longer subtitle list\n",
    "    for i in range(len(longer_subs)):\n",
    "        sub1 = longer_subs[i]\n",
    "        sub2 = shorter_subs[i] if i < len(shorter_subs) else None\n",
    "        \n",
    "        # Combine the text from both subtitles\n",
    "        if sub2:\n",
    "            merged_text = f\"{sub1.text}\\n{sub2.text}\"\n",
    "        else:\n",
    "            merged_text = sub1.text\n",
    "        \n",
    "        # Create a new subtitle entry with combined text\n",
    "        merged_sub = pysrt.SubRipItem(index=sub1.index, start=sub1.start, end=sub1.end, text=merged_text)\n",
    "        \n",
    "        # Add the merged subtitle to the list\n",
    "        merged_subs.append(merged_sub)\n",
    "    \n",
    "    # Save the merged subtitles to the output file\n",
    "    merged_subs.save(output_file, encoding='utf-8')"
   ]
  },
  {
   "cell_type": "code",
   "execution_count": 18,
   "metadata": {},
   "outputs": [
    {
     "name": "stdout",
     "output_type": "stream",
     "text": [
      "Merged subtitles saved to C:\\Users\\zl948\\Downloads\\Seven Samurai (1954) [BluRay] [1080p] [YTS.AM]\\merged_subtitles.srt\n"
     ]
    }
   ],
   "source": [
    "# Paths to the input SRT files\n",
    "folder = r\"C:\\Users\\zl948\\Downloads\\Seven Samurai (1954) [BluRay] [1080p] [YTS.AM]\"\n",
    "name1 = 'Seven.Samurai.1954.1080p.BluRay.x264-[YTS.AM].srt'\n",
    "name2 = '七武士.Seven.Samurai.1954.BluRay.720p.x264.AC3-Red.简体.srt'\n",
    "\n",
    "file1 = os.path.join(folder, name1)\n",
    "file2 = os.path.join(folder, name2)\n",
    "\n",
    "# Path to the output merged SRT file\n",
    "output_file = os.path.join(folder, 'merged_subtitles.srt')\n",
    "\n",
    "# Merge the SRT files\n",
    "merge_srt_files(file1, file2, output_file)\n",
    "print(f\"Merged subtitles saved to {output_file}\")"
   ]
  }
 ],
 "metadata": {
  "kernelspec": {
   "display_name": "Python 3",
   "language": "python",
   "name": "python3"
  },
  "language_info": {
   "codemirror_mode": {
    "name": "ipython",
    "version": 3
   },
   "file_extension": ".py",
   "mimetype": "text/x-python",
   "name": "python",
   "nbconvert_exporter": "python",
   "pygments_lexer": "ipython3",
   "version": "3.9.19"
  }
 },
 "nbformat": 4,
 "nbformat_minor": 2
}
