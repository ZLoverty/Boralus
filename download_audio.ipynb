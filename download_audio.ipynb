{
 "cells": [
  {
   "cell_type": "code",
   "execution_count": null,
   "id": "5c312d3a",
   "metadata": {},
   "outputs": [],
   "source": [
    "import os\n",
    "import requests\n",
    "from bs4 import BeautifulSoup"
   ]
  },
  {
   "cell_type": "code",
   "execution_count": 39,
   "id": "ae095fb8",
   "metadata": {},
   "outputs": [],
   "source": [
    "# URL of the page\n",
    "base_url = \"https://www.xsmp3.com/gdg-yq/gdg-yq-6.html\"\n",
    "\n",
    "# Headers to mimic a browser\n",
    "headers = {\n",
    "    \"User-Agent\": \"Mozilla/5.0\"\n",
    "}\n",
    "\n",
    "# Create output directory\n",
    "os.makedirs(\"gdg_yq_3_downloads\", exist_ok=True)\n",
    "\n",
    "# Fetch the page\n",
    "response = requests.get(base_url, headers=headers)\n",
    "soup = BeautifulSoup(response.text, \"html.parser\")"
   ]
  },
  {
   "cell_type": "code",
   "execution_count": 40,
   "id": "2291ce7a",
   "metadata": {},
   "outputs": [
    {
     "data": {
      "text/plain": [
       "<!DOCTYPE html>\n",
       "\n",
       "<html lang=\"zh-CN\">\n",
       "<head>\n",
       "<meta charset=\"utf-8\"/>\n",
       "<meta content=\"width=device-width,minimum-scale=1,maximum-scale=1,initial-scale=1,maximum-scale=1\" name=\"viewport\"/>\n",
       "<title>郭德纲于谦相声全集高清版(六)持续更新,最全合集! - 相声随身听</title>\n",
       "<meta content=\"郭德纲,于谦,郭德纲于谦,郭德纲于谦相声全集,郭德纲于谦相声大全,郭德纲于谦相声下载\" name=\"keywords\">\n",
       "<meta content=\"郭德纲于谦相声随身听:为您提供郭德纲于谦相声全集在线收听,郭德纲于谦相声大全免费听,郭德纲于谦相声MP3免费下载,郭德纲于谦经典相声作品在线播放!荟萃经典相声,弘扬传统艺术!相声随身听:www.xsmp3.com,相声随身听\" name=\"description\">\n",
       "<meta content=\"pc,mobile\" name=\"applicable-device\"/>\n",
       "<meta content=\"acticle\" property=\"og:type\">\n",
       "<meta content=\"郭德纲于谦相声全集高清版(六)持续更新,最全合集!\" property=\"og:title\"/>\n",
       "<meta content=\"相声随身听\" property=\"og:site_name \"/>\n",
       "<meta content=\"郭德纲于谦相声随身听:为您提供郭德纲于谦相声全集在线收听,郭德纲于谦相声大全免费听,郭德纲于谦相声MP3免费下载,郭德纲于谦经典相声作品在线播放!荟萃经典相声,弘扬传统艺术!相声随身听:www.xsmp3.com\" property=\"og:description\"/>\n",
       "<meta content=\"https://www.xsmp3.com/gdg-yq/gdg-yq-6.html\" property=\"og:url\"/>\n",
       "<meta content=\"/logo.svg\" property=\"og:image\"/>\n",
       "<link href=\"https://www.xsmp3.com/gdg-yq/gdg-yq-7.html\" rel=\"prev\" title=\"郭德纲于谦相声全集高清版(七)持续更新,最全合集!\"/>\n",
       "<link href=\"https://www.xsmp3.com/gdg-yq/gdg-yq-5.html\" rel=\"next\" title=\"郭德纲于谦相声全集高清版(五)持续更新,最全合集!\"/>\n",
       "<link href=\"https://www.xsmp3.com/gdg-yq/gdg-yq-6.html\" rel=\"canonical\"/>\n",
       "<script type=\"application/ld+json\">\n",
       "    {\n",
       "      \"@context\": \"https://schema.org\",\n",
       "      \"@type\": \"NewsArticle\",\n",
       "      \"headline\": \"郭德纲于谦相声全集高清版(六)持续更新,最全合集!\",\n",
       "      \"image\": [\"\"],\n",
       "      \"datePublished\": \"2025-01-02T19:11:11+08:00\",\n",
       "      \"dateModified\": \"2023-02-07T15:32:47+08:00\",\n",
       "      \"author\": [{\n",
       "          \"@type\": \"Person\",\n",
       "          \"name\": \"相声随身听\",\n",
       "          \"url\": \"https://www.xsmp3.com/\"\n",
       "        }]\n",
       "    }\n",
       "</script>\n",
       "<script type=\"application/ld+json\">\n",
       "    {\n",
       "      \"@context\": \"https://schema.org\",\n",
       "      \"@type\": \"BreadcrumbList\",\n",
       "      \"itemListElement\": [{\n",
       "        \"@type\": \"ListItem\",\n",
       "        \"position\": 1,\n",
       "        \"name\": \"相声随身听\",\n",
       "        \"item\": \"https://www.xsmp3.com/\"\n",
       "      },{\n",
       "        \"@type\": \"ListItem\",\n",
       "        \"position\": 2,\n",
       "        \"name\": \"郭德纲于谦\",\n",
       "        \"item\": \"https://www.xsmp3.com/gdg-yq.html\"\n",
       "      },{\n",
       "        \"@type\": \"ListItem\",\n",
       "        \"position\": 3,\n",
       "        \"name\": \"郭德纲于谦相声全集高清版(六)持续更新,最全合集!\"\n",
       "      }]\n",
       "    }\n",
       "</script>\n",
       "<meta content=\"Z-BlogPHP 1.7.4 Themes: Yeelz.Com\" name=\"generator\"/>\n",
       "<link href=\"https://www.xsmp3.com/zb_users/theme/Jz52_zbpcool/style/style.css\" rel=\"stylesheet\"/>\n",
       "<link href=\"https://www.xsmp3.com/zb_users/theme/Jz52_zbpcool/plugin/xtiper/xtiper.css\" rel=\"stylesheet\" type=\"text/css\">\n",
       "<script src=\"https://www.xsmp3.com/zb_users/theme/Jz52_zbpcool/plugin/xtiper/xtiper.min.js\"></script>\n",
       "<script src=\"https://www.xsmp3.com/zb_system/script/jquery-2.2.4.min.js\"></script>\n",
       "<script src=\"https://www.xsmp3.com/zb_system/script/zblogphp.js\"></script>\n",
       "<script src=\"https://www.xsmp3.com/zb_system/script/c_html_js_add.php\"></script><style></style>\n",
       "<style>.aboxd {padding: 0px; background-color: rgba(255, 255, 255, 0);}\n",
       "li.atopd {padding: 0px; background-color: rgba(255, 255, 255, 0);}\n",
       ".logo img {width: 136px;}\n",
       ".timer{display:none}\n",
       ".single-share {display: none;}\n",
       ".nextinfo {flex-direction: column;}/* 修改上下一篇形式 */\n",
       ".nextinfo p.next {margin-left: 0px; margin-right: 8px; text-align: left;}/* 修改上下一篇形式 */\n",
       ".nextinfo p.prev {margin-bottom: 7px;}/* 修改上下一篇形式 */\n",
       ".tag-count{display: none;} /* 标签计数不显示 */\n",
       "#divTags li a {padding: 4px 8px;}\n",
       ".related-list li {width: 100%;}\n",
       ".related-list li i{display:none}\n",
       ".jznight span {display: none;}\n",
       ".jzcms2 li.cmslist em {display:none}\n",
       ".jzcms2 li.cmslist {padding-right: 0;}\n",
       ".jzcmslist li i, .jzcmslist li i img {display:none}\n",
       ".r_box .indextop li .listtopimg {display:none}\n",
       ".r_box li .listtopimg {display:none}\n",
       ".r_box .postfoot .f_r {display:none;}\n",
       "/* .r_box li h2 {font-size: 18px; line-height: 1.5; font-weight: 500;}\n",
       ".news_title {font-size: 20px ;font-weight: 500;} */\n",
       "img.avatar {display:none;}\n",
       ".lmname {display: inline;}\n",
       ".view{display:inline;}/* 浏览数打开写inline关闭写none */\n",
       ".r_box .list-nav li:after {content: '|';}\n",
       ".banner-ps {width: 100%; background: url(/zb_users/theme/Jz52_zbpcool/style/images/banner.webp) no-repeat center center; height: 400px; background-size:cover; margin-bottom: 20px;}\n",
       "@media only screen and (max-width: 1080px){.banner-ps {height: 250px;}}\n",
       "@media only screen and (max-width: 750px){.banner-ps {height: 200px; margin-bottom: 10px;} .gg728 {display: none;}}\n",
       "@media only screen and (max-width: 479px) {.logo img {max-height: 36px;}}</style><script>\n",
       "var jzyjmrh = 0, jzyjkg = 0,jzyjt = 22,jzyjb = 6;\n",
       "</script>\n",
       "</link></meta></meta></meta></head>\n",
       "<body class=\"www_xsmp3_com\">\n",
       "<header class=\"header-navigation\" id=\"header\">\n",
       "<nav>\n",
       "<div class=\"www_xsmp3_com logo\"> <a href=\"https://www.xsmp3.com/\"><img alt=\"相声随身听\" src=\"/logo.svg\"/><img alt=\"相声随身听\" class=\"nightlogoimg\" src=\"/nlogo.svg\"/></a> </div>\n",
       "<ul id=\"starlist\">\n",
       "<li class=\"www_xsmp3_com navbar-item\"><a href=\"/\" title=\"相声随身听\">首页</a></li><li class=\"www_xsmp3_com navbar-item\"><a href=\"/gdg.html\" title=\"郭德纲相声全集\">郭德纲</a></li><li class=\"www_xsmp3_com navbar-item\"><a href=\"/dys.html\" title=\"德云社相声全集\">德云社</a></li><li class=\"www_xsmp3_com navbar-item\"><a href=\"/xsxsl.html\" title=\"相声新势力相声全集\">相声新势力</a></li><li class=\"www_xsmp3_com navbar-item\"><a href=\"/qqs.html\" title=\"青曲社相声全集\">青曲社</a></li><li class=\"www_xsmp3_com navbar-item\"><a href=\"/msl.html\" title=\"马三立相声全集\">马三立</a></li><li class=\"www_xsmp3_com navbar-item\"><a href=\"/xsmj.html\" title=\"相声名家荟萃\">更多相声名家</a></li><li class=\"www_xsmp3_com navbar-item\"><a href=\"https://www.psmp3.com\" target=\"_blank\" title=\"评书大全免费听\">评书随身听</a></li> </ul>\n",
       "<div class=\"fademask\"></div>\n",
       "<div id=\"mnavh\"> <span class=\"mobile-menu jzicon-jzmenu\"></span> </div>\n",
       "<div class=\"jznight\"><a href=\"javascript:switchNightMode()\" target=\"_self\"><span class=\"jzicon-yejian-b\"></span></a></div> <div class=\"searchbox\"> <span class=\"search-btn jzicon-jzsearch\"></span> </div>\n",
       "<form action=\"https://www.xsmp3.com/zb_system/cmd.php?act=search\" class=\"b-nav-search_wrap\" method=\"post\" name=\"search\">\n",
       "<input autocomplete=\"off\" class=\"b-nav-search_input w-input\" maxlength=\"256\" name=\"q\" placeholder=\"请输入关键字...\" type=\"search\"/>\n",
       "<button><i class=\"jzicon-jzsearch\"></i></button>\n",
       "</form>\n",
       "</nav>\n",
       "</header><div class=\"www_xsmp3_com article\">\n",
       "<!--     \n",
       "<div class=\"gg728\">\n",
       "<ins class=\"adsbygoogle\"\n",
       "     style=\"display:inline-block;width:728px;height:90px\"\n",
       "     data-ad-client=\"ca-pub-1616333131500209\"\n",
       "     data-ad-slot=\"8351950001\">\n",
       "     <a href=\"/gdg-yq.html\"><img src=\"/zb_users/theme/Jz52_zbpcool/style/images/728x90-cn.webp\" width=\"728px\" height=\"90px\"></a>\n",
       "</ins>\n",
       "<script>\n",
       "     (adsbygoogle = window.adsbygoogle || []).push({});\n",
       "</script>\n",
       "</div>\n",
       " -->\n",
       "<div class=\"www_xsmp3_com sitemap\">当前位置：<a href=\"https://www.xsmp3.com/\" title=\"首页\">首页</a> &gt; <a href=\"https://www.xsmp3.com/gdg-yq.html\">郭德纲于谦</a> &gt; 正文 </div>\n",
       "<div id=\"jzbolg\">\n",
       "<div class=\"www_xsmp3_com ra_box\">\n",
       "<div class=\"main\">\n",
       "<div class=\"infosbox\">\n",
       "<div class=\"newsview\">\n",
       "<h1 class=\"pi6xXLO7 news_title\">郭德纲于谦相声全集高清版(六)持续更新,最全合集!</h1>\n",
       "<div class=\"bloginfo\">\n",
       "<ul>\n",
       "<li class=\"author\"><img alt=\"相声随身听\" class=\"avatar\" src=\"https://www.xsmp3.com/zb_users/avatar/0.png\"/> <a href=\"https://www.xsmp3.com/\">相声随身听</a></li>\n",
       "<li class=\"lmname\"><span class=\"jzicon-jztuwen\"></span> <a href=\"https://www.xsmp3.com/gdg-yq.html\">郭德纲于谦</a></li>\n",
       "<li class=\"timer\"><span class=\"jzicon-jzshijian\"></span> 2025-01-02</li>\n",
       "<li class=\"view\"><span class=\"jzicon-jzyan\"></span> 23229</li>\n",
       "</ul>\n",
       "</div>\n",
       "<div class=\"AwVo19R6 news_con\" data-height=\"600\" data-zhankai=\"0\" id=\"lightgallery\"> <link href=\"https://www.xsmp3.com/zb_users/theme/Jz52_zbpcool/plugin/APlayer/APlayer.min.css\" rel=\"stylesheet\"/><div id=\"aplayer\"></div><script src=\"https://www.xsmp3.com/zb_users/theme/Jz52_zbpcool/plugin/APlayer/APlayer.min.js\"></script><script>const ap = new APlayer({container: document.getElementById(\"aplayer\"),theme: \"#034eff\",autoplay: 0,audio: [{name: \"251《西天取经》\",artist: \"郭德纲 于谦\",url: \"//5491145.s21v.faiusr.com/55/1/ABUIABA3GAAg1IW-jgYogtHx6gM\",cover: \"https://www.xsmp3.com/zb_users/theme/Jz52_zbpcool/plugin/APlayer/no4.jpg\"},{name: \"252《西游大战》\",artist: \"郭德纲 于谦\",url: \"//5491145.s21v.faiusr.com/55/1/ABUIABA3GAAgoY2-jgYo1Ky8wwM\",cover: \"https://www.xsmp3.com/zb_users/theme/Jz52_zbpcool/plugin/APlayer/no10.jpg\"},{name: \"253《西征梦》\",artist: \"郭德纲 于谦\",url: \"//5491145.s21v.faiusr.com/55/1/ABUIABA3GAAg2Y2-jgYoif6DrwM\",cover: \"https://www.xsmp3.com/zb_users/theme/Jz52_zbpcool/plugin/APlayer/no3.jpg\"},{name: \"254《洗浴中心着火裸奔》\",artist: \"郭德纲 于谦\",url: \"//5491145.s21v.faiusr.com/55/1/ABUIABA3GAAg3o2-jgYojpzfkQI\",cover: \"https://www.xsmp3.com/zb_users/theme/Jz52_zbpcool/plugin/APlayer/no10.jpg\"},{name: \"255《戏剧与方言》\",artist: \"郭德纲 于谦\",url: \"//5491145.s21v.faiusr.com/55/1/ABUIABA3GAAg-42-jgYo9f-59QQ\",cover: \"https://www.xsmp3.com/zb_users/theme/Jz52_zbpcool/plugin/APlayer/no2.jpg\"},{name: \"256《戏叔别兄》\",artist: \"郭德纲 于谦\",url: \"//5491145.s21v.faiusr.com/55/1/ABUIABA3GAAg3I6-jgYor_O-oAQ\",cover: \"https://www.xsmp3.com/zb_users/theme/Jz52_zbpcool/plugin/APlayer/no1.jpg\"},{name: \"257《先生贵姓》\",artist: \"郭德纲 于谦\",url: \"//5491145.s21v.faiusr.com/55/1/ABUIABA3GAAg_I6-jgYo6pjGmgc\",cover: \"https://www.xsmp3.com/zb_users/theme/Jz52_zbpcool/plugin/APlayer/no2.jpg\"},{name: \"258《现场直播》\",artist: \"郭德纲 于谦\",url: \"//5491145.s21v.faiusr.com/55/1/ABUIABA3GAAg_46-jgYo9YSQmAQ\",cover: \"https://www.xsmp3.com/zb_users/theme/Jz52_zbpcool/plugin/APlayer/no9.jpg\"},{name: \"259《相面》\",artist: \"郭德纲 于谦\",url: \"//5491145.s21v.faiusr.com/55/1/ABUIABA3GAAgk4_-jgYo1KO3_gU\",cover: \"https://www.xsmp3.com/zb_users/theme/Jz52_zbpcool/plugin/APlayer/no4.jpg\"},{name: \"260《相声圈里那些事儿》\",artist: \"郭德纲 于谦 岳云鹏\",url: \"//5491145.s21v.faiusr.com/55/1/ABUIABA3GAAgmo_-jgYo0PqK5gc\",cover: \"https://www.xsmp3.com/zb_users/theme/Jz52_zbpcool/plugin/APlayer/no2.jpg\"},{name: \"261《相声小段01》\",artist: \"郭德纲 于谦\",url: \"//5491145.s21v.faiusr.com/55/1/ABUIABA3GAAgtY_-jgYo6MyLhQU\",cover: \"https://www.xsmp3.com/zb_users/theme/Jz52_zbpcool/plugin/APlayer/no7.jpg\"},{name: \"262《相声小段02》\",artist: \"郭德纲 于谦\",url: \"//5491145.s21v.faiusr.com/55/1/ABUIABA3GAAg5o_-jgYomrGN6wM\",cover: \"https://www.xsmp3.com/zb_users/theme/Jz52_zbpcool/plugin/APlayer/no10.jpg\"},{name: \"263《相声小段03》\",artist: \"郭德纲 于谦\",url: \"//5491145.s21v.faiusr.com/55/1/ABUIABA3GAAg-o_-jgYouP7j2QY\",cover: \"https://www.xsmp3.com/zb_users/theme/Jz52_zbpcool/plugin/APlayer/no10.jpg\"},{name: \"264《相声小段04》\",artist: \"郭德纲 于谦\",url: \"//5491145.s21v.faiusr.com/55/1/ABUIABA3GAAgnpC-jgYo25rPZQ\",cover: \"https://www.xsmp3.com/zb_users/theme/Jz52_zbpcool/plugin/APlayer/no5.jpg\"},{name: \"265《想唱就唱》\",artist: \"郭德纲 于谦\",url: \"//5491145.s21v.faiusr.com/55/1/ABUIABA3GAAgqJC-jgYogpeijgc\",cover: \"https://www.xsmp3.com/zb_users/theme/Jz52_zbpcool/plugin/APlayer/no9.jpg\"},{name: \"266《笑傲江湖》\",artist: \"郭德纲 于谦\",url: \"//5491145.s21v.faiusr.com/55/1/ABUIABA3GAAgtJC-jgYo5te-lgE\",cover: \"https://www.xsmp3.com/zb_users/theme/Jz52_zbpcool/plugin/APlayer/no10.jpg\"},{name: \"267《心服口服》\",artist: \"郭德纲 于谦\",url: \"//5491145.s21v.faiusr.com/55/1/ABUIABA3GAAgq5G-jgYo2PitqQY\",cover: \"https://www.xsmp3.com/zb_users/theme/Jz52_zbpcool/plugin/APlayer/no1.jpg\"},{name: \"268《新婚晚上累坏了》\",artist: \"郭德纲 于谦\",url: \"//5491145.s21v.faiusr.com/55/1/ABUIABA3GAAgxpG-jgYogMjRpAQ\",cover: \"https://www.xsmp3.com/zb_users/theme/Jz52_zbpcool/plugin/APlayer/no9.jpg\"},{name: \"269《新师傅经》\",artist: \"郭德纲 于谦\",url: \"//5491145.s21v.faiusr.com/55/1/ABUIABA3GAAg0ZG-jgYogIKqIA\",cover: \"https://www.xsmp3.com/zb_users/theme/Jz52_zbpcool/plugin/APlayer/no9.jpg\"},{name: \"270《新西兰游记》\",artist: \"郭德纲 于谦\",url: \"//5491145.s21v.faiusr.com/55/1/ABUIABA3GAAg8pG-jgYotuOirwU\",cover: \"https://www.xsmp3.com/zb_users/theme/Jz52_zbpcool/plugin/APlayer/no1.jpg\"},{name: \"271《行为艺术》\",artist: \"郭德纲 于谦\",url: \"//5491145.s21v.faiusr.com/55/1/ABUIABA3GAAg-5G-jgYo0rXy6wQ\",cover: \"https://www.xsmp3.com/zb_users/theme/Jz52_zbpcool/plugin/APlayer/no10.jpg\"},{name: \"272《行业论》\",artist: \"郭德纲 于谦\",url: \"//5491145.s21v.faiusr.com/55/1/ABUIABA3GAAglpK-jgYoxu-NmQc\",cover: \"https://www.xsmp3.com/zb_users/theme/Jz52_zbpcool/plugin/APlayer/no6.jpg\"},{name: \"273《兄弟情长》\",artist: \"郭德纲 于谦\",url: \"//5491145.s21v.faiusr.com/55/1/ABUIABA3GAAgsJK-jgYo2__GswM\",cover: \"https://www.xsmp3.com/zb_users/theme/Jz52_zbpcool/plugin/APlayer/no2.jpg\"},{name: \"274《旋转跳跃闭着眼》\",artist: \"郭德纲 于谦\",url: \"//5491145.s21v.faiusr.com/55/1/ABUIABA3GAAglZO-jgYouZ-JhAY\",cover: \"https://www.xsmp3.com/zb_users/theme/Jz52_zbpcool/plugin/APlayer/no1.jpg\"},{name: \"275《学聋哑》\",artist: \"郭德纲 于谦\",url: \"//5491145.s21v.faiusr.com/55/1/ABUIABA3GAAgnpO-jgYo7KLSvgM\",cover: \"https://www.xsmp3.com/zb_users/theme/Jz52_zbpcool/plugin/APlayer/no4.jpg\"},{name: \"276《学生时代》\",artist: \"郭德纲 于谦\",url: \"//5491145.s21v.faiusr.com/55/1/ABUIABA3GAAg3ZO-jgYozcT7igE\",cover: \"https://www.xsmp3.com/zb_users/theme/Jz52_zbpcool/plugin/APlayer/no8.jpg\"},{name: \"277《学生也疯狂》\",artist: \"郭德纲 于谦\",url: \"//5491145.s21v.faiusr.com/55/1/ABUIABA3GAAg5pO-jgYo_OzUhwY\",cover: \"https://www.xsmp3.com/zb_users/theme/Jz52_zbpcool/plugin/APlayer/no6.jpg\"},{name: \"278《学跳舞》\",artist: \"郭德纲 于谦\",url: \"//5491145.s21v.faiusr.com/55/1/ABUIABA3GAAghJS-jgYo2dXakwQ\",cover: \"https://www.xsmp3.com/zb_users/theme/Jz52_zbpcool/plugin/APlayer/no8.jpg\"},{name: \"279《学问家》\",artist: \"郭德纲 于谦\",url: \"//5491145.s21v.faiusr.com/55/1/ABUIABA3GAAgtZS-jgYomvmisgc\",cover: \"https://www.xsmp3.com/zb_users/theme/Jz52_zbpcool/plugin/APlayer/no1.jpg\"},{name: \"280《学西河》\",artist: \"郭德纲 于谦\",url: \"//5491145.s21v.faiusr.com/55/1/ABUIABA3GAAg35S-jgYo5rex6AQ\",cover: \"https://www.xsmp3.com/zb_users/theme/Jz52_zbpcool/plugin/APlayer/no4.jpg\"},{name: \"281《学小调》\",artist: \"郭德纲 于谦\",url: \"//5491145.s21v.faiusr.com/55/1/ABUIABA3GAAgsZW-jgYo6oXx_gI\",cover: \"https://www.xsmp3.com/zb_users/theme/Jz52_zbpcool/plugin/APlayer/no1.jpg\"},{name: \"282《学小曲儿》\",artist: \"郭德纲 于谦\",url: \"//5491145.s21v.faiusr.com/55/1/ABUIABA3GAAg9pW-jgYooJjXlgY\",cover: \"https://www.xsmp3.com/zb_users/theme/Jz52_zbpcool/plugin/APlayer/no7.jpg\"},{name: \"283《学医记》\",artist: \"郭德纲 于谦\",url: \"//5491145.s21v.faiusr.com/55/1/ABUIABA3GAAgwpi-jgYo2tfXqgE\",cover: \"https://www.xsmp3.com/zb_users/theme/Jz52_zbpcool/plugin/APlayer/no5.jpg\"},{name: \"284《羊上树》\",artist: \"郭德纲 于谦\",url: \"//5491145.s21v.faiusr.com/55/1/ABUIABA3GAAgy5i-jgYo7J-sywE\",cover: \"https://www.xsmp3.com/zb_users/theme/Jz52_zbpcool/plugin/APlayer/no8.jpg\"},{name: \"285《杨乃武写状》\",artist: \"郭德纲 于谦\",url: \"//5491145.s21v.faiusr.com/55/1/ABUIABA3GAAg-pm-jgYozOfrhAI\",cover: \"https://www.xsmp3.com/zb_users/theme/Jz52_zbpcool/plugin/APlayer/no3.jpg\"},{name: \"286《杨乃武与小白菜》\",artist: \"郭德纲 于谦\",url: \"//5491145.s21v.faiusr.com/55/1/ABUIABA3GAAgrJy-jgYogKzPuQc\",cover: \"https://www.xsmp3.com/zb_users/theme/Jz52_zbpcool/plugin/APlayer/no6.jpg\"},{name: \"287《养宠物》\",artist: \"郭德纲 于谦\",url: \"//5491145.s21v.faiusr.com/55/1/ABUIABA3GAAgsJy-jgYo-KXPwAM\",cover: \"https://www.xsmp3.com/zb_users/theme/Jz52_zbpcool/plugin/APlayer/no8.jpg\"},{name: \"288《摇元宵》\",artist: \"郭德纲 于谦\",url: \"//5491145.s21v.faiusr.com/55/1/ABUIABA3GAAgtpy-jgYogICJvQQ\",cover: \"https://www.xsmp3.com/zb_users/theme/Jz52_zbpcool/plugin/APlayer/no2.jpg\"},{name: \"289《药引子》\",artist: \"郭德纲 于谦\",url: \"//5491145.s21v.faiusr.com/55/1/ABUIABA3GAAgwZy-jgYo9sqT_QI\",cover: \"https://www.xsmp3.com/zb_users/theme/Jz52_zbpcool/plugin/APlayer/no9.jpg\"},{name: \"290《夜行记》\",artist: \"郭德纲 于谦\",url: \"//5491145.s21v.faiusr.com/55/1/ABUIABA3GAAg6py-jgYojYPA_AQ\",cover: \"https://www.xsmp3.com/zb_users/theme/Jz52_zbpcool/plugin/APlayer/no10.jpg\"},{name: \"291《一被子的朋友》\",artist: \"郭德纲 于谦\",url: \"//5491145.s21v.faiusr.com/55/1/ABUIABA3GAAguZ2-jgYok5rHigc\",cover: \"https://www.xsmp3.com/zb_users/theme/Jz52_zbpcool/plugin/APlayer/no1.jpg\"},{name: \"292《一户侯》\",artist: \"郭德纲 于谦\",url: \"//5491145.s21v.faiusr.com/55/1/ABUIABA3GAAgjZ6-jgYoytql6wM\",cover: \"https://www.xsmp3.com/zb_users/theme/Jz52_zbpcool/plugin/APlayer/no1.jpg\"},{name: \"293《一起打台球》\",artist: \"郭德纲 于谦\",url: \"//5491145.s21v.faiusr.com/55/1/ABUIABA3GAAgpJ6-jgYo-MaCiQM\",cover: \"https://www.xsmp3.com/zb_users/theme/Jz52_zbpcool/plugin/APlayer/no8.jpg\"},{name: \"294《艺术漫谈》\",artist: \"郭德纲 于谦\",url: \"//5491145.s21v.faiusr.com/55/1/ABUIABA3GAAgq5_-jgYo8OyTxwQ\",cover: \"https://www.xsmp3.com/zb_users/theme/Jz52_zbpcool/plugin/APlayer/no3.jpg\"},{name: \"295《于老师打人了》\",artist: \"郭德纲 于谦\",url: \"//5491145.s21v.faiusr.com/55/1/ABUIABA3GAAgz6C-jgYo2PXDZQ\",cover: \"https://www.xsmp3.com/zb_users/theme/Jz52_zbpcool/plugin/APlayer/no3.jpg\"},{name: \"296《于老师弹钢琴》\",artist: \"郭德纲 于谦\",url: \"//5491145.s21v.faiusr.com/55/1/ABUIABA3GAAgo6G-jgYokMuysQc\",cover: \"https://www.xsmp3.com/zb_users/theme/Jz52_zbpcool/plugin/APlayer/no4.jpg\"},{name: \"297《于老师的小妹》\",artist: \"郭德纲 于谦\",url: \"//5491145.s21v.faiusr.com/55/1/ABUIABA3GAAgjaK-jgYohr7GmQc\",cover: \"https://www.xsmp3.com/zb_users/theme/Jz52_zbpcool/plugin/APlayer/no2.jpg\"},{name: \"298《于老师真坏》\",artist: \"郭德纲 于谦\",url: \"//5491145.s21v.faiusr.com/55/1/ABUIABA3GAAg-KO-jgYo9Lzi2wI\",cover: \"https://www.xsmp3.com/zb_users/theme/Jz52_zbpcool/plugin/APlayer/no9.jpg\"},{name: \"299《于老师真厉害》\",artist: \"郭德纲 于谦\",url: \"//5491145.s21v.faiusr.com/55/1/ABUIABA3GAAgkaW-jgYo3PSKpQY\",cover: \"https://www.xsmp3.com/zb_users/theme/Jz52_zbpcool/plugin/APlayer/no9.jpg\"},{name: \"300《于谦被妖怪抓走了》\",artist: \"郭德纲 于谦\",url: \"//5491145.s21v.faiusr.com/55/1/ABUIABA3GAAgqqa-jgYojLnl8wM\",cover: \"https://www.xsmp3.com/zb_users/theme/Jz52_zbpcool/plugin/APlayer/no7.jpg\"},]});</script><p style=\"white-space: normal; text-align: left;\"><a href=\"https://www.xsmp3.com/guodegang.html\" target=\"_self\">郭德纲</a><a href=\"https://www.xsmp3.com/yuqian.html\" target=\"_self\">于谦</a>相声随身听：为您提供<a href=\"https://www.xsmp3.com/gdg-yq.html\" target=\"_self\">郭德纲于谦</a>相声全集在线收听，<a href=\"https://www.xsmp3.com/gdg-yq.html\" target=\"_self\">郭德纲于谦相声大全</a>免费听，郭德纲于谦相声MP3免费下载，郭德纲于谦经典相声作品在线播放，您可以将郭德纲于谦相声MP3文件保存到手机或汽车SD卡内，方便您开车、旅行、散步、健身等场景随时听！</p><p style=\"white-space: normal; text-align: left;\">郭德纲，1979年投身艺坛，先拜评书前辈高庆海学习评书，后跟随相声名家常宝丰学相声，又师从相声大师侯耀文。期间又学习了京剧、评剧、河北梆子等剧种，辗转梨园多年。2011年荣登美国《纽约时报》。2012年获“亚洲最杰出艺人奖”与第七届华鼎奖中国最佳曲艺男演员奖。2013年首次登上中国中央电视台春节联欢晚会。2015年担任《笑傲江湖第二季》评委。2016-2021年六度担任东方卫视《欢乐喜剧人》喜剧观察员。</p><p style=\"white-space: normal; text-align: left;\">于谦，1982年，考入北京市戏曲学校相声班学艺，在校期间跟随相声演员王世臣、罗荣寿、高凤山、赵世忠学习。1985年，拜相声演员石富宽为师。1995年结业于北京电影学院影视导演系进修班。2000年开始与郭德纲合作表演相声，2004年正式加盟德云社。2013年，与郭德纲搭档登上春晚舞台。2016年5月，担任湖北卫视《我为喜剧狂第三季》导师。10月，加盟浙江卫视综艺节目《喜剧总动员》。12月22日，凭借电影《老师·好》获得第11届澳门国际电影节最佳男主角奖。</p><hr style=\"white-space: normal;\"/><p style=\"white-space: normal; text-align: left;\"><a href=\"https://www.xsmp3.com/\" target=\"_self\">相声</a>名家推荐：<a href=\"https://www.xsmp3.com/gdg.html\" target=\"_self\">郭德纲</a>｜<a href=\"https://www.xsmp3.com/dys.html\" target=\"_self\">德云社</a>｜<a href=\"https://www.xsmp3.com/msl.html\" target=\"_self\">马三立</a>｜<a href=\"https://www.xsmp3.com/hbl.html\" target=\"_self\">侯宝林</a>｜<a href=\"https://www.xsmp3.com/lbr.html\" target=\"_self\">刘宝瑞</a>｜<a href=\"https://www.xsmp3.com/mj.html\" target=\"_self\">马季</a>｜<a href=\"https://www.xsmp3.com/hyw.html\" target=\"_self\">侯耀文</a>｜<a href=\"https://www.xsmp3.com/ssj.html\" target=\"_self\">师胜杰</a>｜<a href=\"https://www.xsmp3.com/jk.html\" target=\"_self\">姜昆</a>。荟萃经典相声，弘扬传统艺术！<a href=\"https://www.xsmp3.com/\" target=\"_self\">相声随身听</a>：www.xsmp3.com</p> </div>\n",
       "<div class=\"tags\"> <a href=\"https://www.xsmp3.com/guodegang.html\" target=\"_blank\">郭德纲</a><a href=\"https://www.xsmp3.com/yuqian.html\" target=\"_blank\">于谦</a> </div>\n",
       "</div>\n",
       "<div class=\"single-share\">\n",
       "<div class=\"post-share\"> <a title=\"分享\"><i class=\"jzicon-jzfenxiang\"></i></a>\n",
       "<div class=\"share-icons\" data-title=\"郭德纲于谦相声全集高清版(六)持续更新,最全合集!\" data-url=\"https://www.xsmp3.com/gdg-yq/gdg-yq-6.html\">\n",
       "<span class=\"share-icon share-wechat\" data-type=\"wechat\" title=\"分享到微信\"><i class=\"jzicon-weixin\"></i><span id=\"wechat-qrcode\"></span></span>\n",
       "<span class=\"share-icon share-sina-weibo\" data-type=\"weibo\" title=\"分享到微博\"><i class=\"jzicon-weibo\"></i></span>\n",
       "<span class=\"share-icon share-qq\" data-type=\"qq\" title=\"分享到QQ好友\"><i class=\"jzicon-qq\"></i></span>\n",
       "</div>\n",
       "</div>\n",
       "<div class=\"post-like\">\n",
       "</div>\n",
       "</div>\n",
       "</div>\n",
       "<div class=\"aboxd\"><script type=\"text/javascript\">\n",
       "document.getElementById('aplayer').addEventListener('click', function() {\n",
       "  window.open('https://choadsoa.top/4/9236299', '_blank');\n",
       "});</script></div> </div>\n",
       "</div>\n",
       "<div class=\"www_xsmp3_com aside l_box\">\n",
       "<div class=\"sidebar\" id=\"divTags\">\n",
       "<div class=\"side-title\" style=\"display:none;\"><h3></h3></div><ul><li><a href=\"https://www.xsmp3.com/baiquanfu.html\" title=\"白全福\">白全福<span class=\"tag-count\"> (13)</span></a></li>\n",
       "<li><a href=\"https://www.xsmp3.com/caoheyang.html\" title=\"曹鹤阳\">曹鹤阳<span class=\"tag-count\"> (9)</span></a></li>\n",
       "<li><a href=\"https://www.xsmp3.com/caoyunjin.html\" title=\"曹云金\">曹云金<span class=\"tag-count\"> (52)</span></a></li>\n",
       "<li><a href=\"https://www.xsmp3.com/changbaohua.html\" title=\"常宝华\">常宝华<span class=\"tag-count\"> (11)</span></a></li>\n",
       "<li><a href=\"https://www.xsmp3.com/changbaoting.html\" title=\"常宝霆\">常宝霆<span class=\"tag-count\"> (17)</span></a></li>\n",
       "<li><a href=\"https://www.xsmp3.com/changguitian.html\" title=\"常贵田\">常贵田<span class=\"tag-count\"> (14)</span></a></li>\n",
       "<li><a href=\"https://www.xsmp3.com/chenyongquan.html\" title=\"陈涌泉\">陈涌泉<span class=\"tag-count\"> (13)</span></a></li>\n",
       "<li><a href=\"https://www.xsmp3.com/dabing.html\" title=\"大兵\">大兵<span class=\"tag-count\"> (27)</span></a></li>\n",
       "<li><a href=\"https://www.xsmp3.com/duguozhi.html\" title=\"杜国芝\">杜国芝<span class=\"tag-count\"> (8)</span></a></li>\n",
       "<li><a href=\"https://www.xsmp3.com/fanzhenyu.html\" title=\"范振钰\">范振钰<span class=\"tag-count\"> (18)</span></a></li>\n",
       "<li><a href=\"https://www.xsmp3.com/fengbaohua.html\" title=\"冯宝华\">冯宝华<span class=\"tag-count\"> (10)</span></a></li>\n",
       "<li><a href=\"https://www.xsmp3.com/fenggong.html\" title=\"冯巩\">冯巩<span class=\"tag-count\"> (30)</span></a></li>\n",
       "<li><a href=\"https://www.xsmp3.com/fengyongzhi.html\" title=\"冯永志\">冯永志<span class=\"tag-count\"> (7)</span></a></li>\n",
       "<li><a href=\"https://www.xsmp3.com/fengzhaoyang.html\" title=\"冯照洋\">冯照洋<span class=\"tag-count\"> (1)</span></a></li>\n",
       "<li><a href=\"https://www.xsmp3.com/gaofeng.html\" title=\"高峰\">高峰<span class=\"tag-count\"> (114)</span></a></li>\n",
       "<li><a href=\"https://www.xsmp3.com/gaoyingpei.html\" title=\"高英培\">高英培<span class=\"tag-count\"> (40)</span></a></li>\n",
       "<li><a href=\"https://www.xsmp3.com/guodegang.html\" title=\"郭德纲\">郭德纲<span class=\"tag-count\"> (484)</span></a></li>\n",
       "<li><a href=\"https://www.xsmp3.com/guoqilin.html\" title=\"郭麒麟\">郭麒麟<span class=\"tag-count\"> (104)</span></a></li>\n",
       "<li><a href=\"https://www.xsmp3.com/guoqiru.html\" title=\"郭启儒\">郭启儒<span class=\"tag-count\"> (8)</span></a></li>\n",
       "<li><a href=\"https://www.xsmp3.com/guoquanbao.html\" title=\"郭全宝\">郭全宝<span class=\"tag-count\"> (48)</span></a></li>\n",
       "<li><a href=\"https://www.xsmp3.com/guorongqi.html\" title=\"郭荣起\">郭荣起<span class=\"tag-count\"> (19)</span></a></li>\n",
       "<li><a href=\"https://www.xsmp3.com/hanhexiao.html\" title=\"韩鹤晓\">韩鹤晓<span class=\"tag-count\"> (3)</span></a></li>\n",
       "<li><a href=\"https://www.xsmp3.com/haoaimin.html\" title=\"郝爱民\">郝爱民<span class=\"tag-count\"> (12)</span></a></li>\n",
       "<li><a href=\"https://www.xsmp3.com/heyunwei.html\" title=\"何云伟\">何云伟<span class=\"tag-count\"> (76)</span></a></li>\n",
       "<li><a href=\"https://www.xsmp3.com/houbaolin.html\" title=\"侯宝林\">侯宝林<span class=\"tag-count\"> (56)</span></a></li>\n",
       "<li><a href=\"https://www.xsmp3.com/houyaowen.html\" title=\"侯耀文\">侯耀文<span class=\"tag-count\"> (51)</span></a></li>\n",
       "<li><a href=\"https://www.xsmp3.com/houzhen.html\" title=\"侯震\">侯震<span class=\"tag-count\"> (9)</span></a></li>\n",
       "<li><a href=\"https://www.xsmp3.com/huangzumin.html\" title=\"黄族民\">黄族民<span class=\"tag-count\"> (36)</span></a></li>\n",
       "<li><a href=\"https://www.xsmp3.com/jiangkun.html\" title=\"姜昆\">姜昆<span class=\"tag-count\"> (58)</span></a></li>\n",
       "<li><a href=\"https://www.xsmp3.com/jinbingchang.html\" title=\"金炳昶\">金炳昶<span class=\"tag-count\"> (14)</span></a></li>\n",
       "<li><a href=\"https://www.xsmp3.com/kongyunlong.html\" title=\"孔云龙\">孔云龙<span class=\"tag-count\"> (3)</span></a></li>\n",
       "<li><a href=\"https://www.xsmp3.com/langheyan.html\" title=\"郎鹤炎\">郎鹤炎<span class=\"tag-count\"> (55)</span></a></li>\n",
       "<li><a href=\"https://www.xsmp3.com/liboxiang.html\" title=\"李伯祥\">李伯祥<span class=\"tag-count\"> (9)</span></a></li>\n",
       "<li><a href=\"https://www.xsmp3.com/lihebiao.html\" title=\"李鹤彪\">李鹤彪<span class=\"tag-count\"> (2)</span></a></li>\n",
       "<li><a href=\"https://www.xsmp3.com/lijindou.html\" title=\"李金斗\">李金斗<span class=\"tag-count\"> (18)</span></a></li>\n",
       "<li><a href=\"https://www.xsmp3.com/lijing.html\" title=\"李菁\">李菁<span class=\"tag-count\"> (93)</span></a></li>\n",
       "<li><a href=\"https://www.xsmp3.com/liwenhua.html\" title=\"李文华\">李文华<span class=\"tag-count\"> (30)</span></a></li>\n",
       "<li><a href=\"https://www.xsmp3.com/liwenshan.html\" title=\"李文山\">李文山<span class=\"tag-count\"> (3)</span></a></li>\n",
       "<li><a href=\"https://www.xsmp3.com/liyunjie.html\" title=\"李云杰\">李云杰<span class=\"tag-count\"> (1)</span></a></li>\n",
       "<li><a href=\"https://www.xsmp3.com/lizengrui.html\" title=\"李增瑞\">李增瑞<span class=\"tag-count\"> (25)</span></a></li>\n",
       "<li><a href=\"https://www.xsmp3.com/liubaorui.html\" title=\"刘宝瑞\">刘宝瑞<span class=\"tag-count\"> (80)</span></a></li>\n",
       "<li><a href=\"https://www.xsmp3.com/liuhui.html\" title=\"刘惠\">刘惠<span class=\"tag-count\"> (4)</span></a></li>\n",
       "<li><a href=\"https://www.xsmp3.com/liuwei.html\" title=\"刘伟\">刘伟<span class=\"tag-count\"> (18)</span></a></li>\n",
       "<li><a href=\"https://www.xsmp3.com/liuwenheng.html\" title=\"刘文亨\">刘文亨<span class=\"tag-count\"> (13)</span></a></li>\n",
       "<li><a href=\"https://www.xsmp3.com/liuyuntian.html\" title=\"刘云天\">刘云天<span class=\"tag-count\"> (42)</span></a></li>\n",
       "<li><a href=\"https://www.xsmp3.com/liuzhe.html\" title=\"刘喆\">刘喆<span class=\"tag-count\"> (1)</span></a></li>\n",
       "<li><a href=\"https://www.xsmp3.com/luxin.html\" title=\"卢鑫\">卢鑫<span class=\"tag-count\"> (59)</span></a></li>\n",
       "<li><a href=\"https://www.xsmp3.com/luanyunping.html\" title=\"栾云平\">栾云平<span class=\"tag-count\"> (88)</span></a></li>\n",
       "<li><a href=\"https://www.xsmp3.com/maji.html\" title=\"马季\">马季<span class=\"tag-count\"> (64)</span></a></li>\n",
       "<li><a href=\"https://www.xsmp3.com/majingbo.html\" title=\"马敬伯\">马敬伯<span class=\"tag-count\"> (14)</span></a></li>\n",
       "<li><a href=\"https://www.xsmp3.com/masanli.html\" title=\"马三立\">马三立<span class=\"tag-count\"> (86)</span></a></li>\n",
       "<li><a href=\"https://www.xsmp3.com/mashuchun.html\" title=\"马树春\">马树春<span class=\"tag-count\"> (16)</span></a></li>\n",
       "<li><a href=\"https://www.xsmp3.com/mazhicun.html\" title=\"马志存\">马志存<span class=\"tag-count\"> (15)</span></a></li>\n",
       "<li><a href=\"https://www.xsmp3.com/mazhiming.html\" title=\"马志明\">马志明<span class=\"tag-count\"> (52)</span></a></li>\n",
       "<li><a href=\"https://www.xsmp3.com/mengfangui.html\" title=\"孟凡贵\">孟凡贵<span class=\"tag-count\"> (17)</span></a></li>\n",
       "<li><a href=\"https://www.xsmp3.com/menghetang.html\" title=\"孟鹤堂\">孟鹤堂<span class=\"tag-count\"> (77)</span></a></li>\n",
       "<li><a href=\"https://www.xsmp3.com/mengxiangguang.html\" title=\"孟祥光\">孟祥光<span class=\"tag-count\"> (6)</span></a></li>\n",
       "<li><a href=\"https://www.xsmp3.com/miaofu.html\" title=\"苗阜\">苗阜<span class=\"tag-count\"> (104)</span></a></li>\n",
       "<li><a href=\"https://www.xsmp3.com/niuqun.html\" title=\"牛群\">牛群<span class=\"tag-count\"> (27)</span></a></li>\n",
       "<li><a href=\"https://www.xsmp3.com/qizhi.html\" title=\"奇志\">奇志<span class=\"tag-count\"> (27)</span></a></li>\n",
       "<li><a href=\"https://www.xsmp3.com/shaobing.html\" title=\"烧饼\">烧饼<span class=\"tag-count\"> (9)</span></a></li>\n",
       "<li><a href=\"https://www.xsmp3.com/shishengjie.html\" title=\"师胜杰\">师胜杰<span class=\"tag-count\"> (54)</span></a></li>\n",
       "<li><a href=\"https://www.xsmp3.com/shifukuan.html\" title=\"石富宽\">石富宽<span class=\"tag-count\"> (47)</span></a></li>\n",
       "<li><a href=\"https://www.xsmp3.com/shiaidong.html\" title=\"史爱东\">史爱东<span class=\"tag-count\"> (20)</span></a></li>\n",
       "<li><a href=\"https://www.xsmp3.com/suwenmao.html\" title=\"苏文茂\">苏文茂<span class=\"tag-count\"> (31)</span></a></li>\n",
       "<li><a href=\"https://www.xsmp3.com/sunyue.html\" title=\"孙越\">孙越<span class=\"tag-count\"> (95)</span></a></li>\n",
       "<li><a href=\"https://www.xsmp3.com/tangjiezhong.html\" title=\"唐杰忠\">唐杰忠<span class=\"tag-count\"> (35)</span></a></li>\n",
       "<li><a href=\"https://www.xsmp3.com/tongyouwei.html\" title=\"佟有为\">佟有为<span class=\"tag-count\"> (18)</span></a></li>\n",
       "<li><a href=\"https://www.xsmp3.com/wangbaotong.html\" title=\"王宝童\">王宝童<span class=\"tag-count\"> (8)</span></a></li>\n",
       "<li><a href=\"https://www.xsmp3.com/wangfengshan.html\" title=\"王凤山\">王凤山<span class=\"tag-count\"> (26)</span></a></li>\n",
       "<li><a href=\"https://www.xsmp3.com/wangjiulong.html\" title=\"王九龙\">王九龙<span class=\"tag-count\"> (1)</span></a></li>\n",
       "<li><a href=\"https://www.xsmp3.com/wangpeiyuan.html\" title=\"王佩元\">王佩元<span class=\"tag-count\"> (8)</span></a></li>\n",
       "<li><a href=\"https://www.xsmp3.com/wangqianxiang.html\" title=\"王谦祥\">王谦祥<span class=\"tag-count\"> (20)</span></a></li>\n",
       "<li><a href=\"https://www.xsmp3.com/wangsheng.html\" title=\"王声\">王声<span class=\"tag-count\"> (96)</span></a></li>\n",
       "<li><a href=\"https://www.xsmp3.com/wangwenlin.html\" title=\"王文林\">王文林<span class=\"tag-count\"> (46)</span></a></li>\n",
       "<li><a href=\"https://www.xsmp3.com/wangwenyu.html\" title=\"王文玉\">王文玉<span class=\"tag-count\"> (12)</span></a></li>\n",
       "<li><a href=\"https://www.xsmp3.com/wangyuebo.html\" title=\"王玥波\">王玥波<span class=\"tag-count\"> (20)</span></a></li>\n",
       "<li><a href=\"https://www.xsmp3.com/weiwenliang.html\" title=\"魏文亮\">魏文亮<span class=\"tag-count\"> (18)</span></a></li>\n",
       "<li><a href=\"https://www.xsmp3.com/xietianshun.html\" title=\"谢天顺\">谢天顺<span class=\"tag-count\"> (13)</span></a></li>\n",
       "<li><a href=\"https://www.xsmp3.com/xingwenzhao.html\" title=\"邢文昭\">邢文昭<span class=\"tag-count\"> (6)</span></a></li>\n",
       "<li><a href=\"https://www.xsmp3.com/xudeliang.html\" title=\"徐德亮\">徐德亮<span class=\"tag-count\"> (39)</span></a></li>\n",
       "<li><a href=\"https://www.xsmp3.com/yanhexiang.html\" title=\"阎鹤祥\">阎鹤祥<span class=\"tag-count\"> (63)</span></a></li>\n",
       "<li><a href=\"https://www.xsmp3.com/yanyueming.html\" title=\"阎月明\">阎月明<span class=\"tag-count\"> (6)</span></a></li>\n",
       "<li><a href=\"https://www.xsmp3.com/yanghetong.html\" title=\"杨鹤通\">杨鹤通<span class=\"tag-count\"> (1)</span></a></li>\n",
       "<li><a href=\"https://www.xsmp3.com/yangjiulang.html\" title=\"杨九郎\">杨九郎<span class=\"tag-count\"> (6)</span></a></li>\n",
       "<li><a href=\"https://www.xsmp3.com/yangshaohua.html\" title=\"杨少华\">杨少华<span class=\"tag-count\"> (6)</span></a></li>\n",
       "<li><a href=\"https://www.xsmp3.com/yangzhenhua.html\" title=\"杨振华\">杨振华<span class=\"tag-count\"> (18)</span></a></li>\n",
       "<li><a href=\"https://www.xsmp3.com/yubaolin.html\" title=\"于宝林\">于宝林<span class=\"tag-count\"> (11)</span></a></li>\n",
       "<li><a href=\"https://www.xsmp3.com/yuqian.html\" title=\"于谦\">于谦<span class=\"tag-count\"> (374)</span></a></li>\n",
       "<li><a href=\"https://www.xsmp3.com/yushiyou.html\" title=\"于世猷\">于世猷<span class=\"tag-count\"> (13)</span></a></li>\n",
       "<li><a href=\"https://www.xsmp3.com/yuhao.html\" title=\"玉浩\">玉浩<span class=\"tag-count\"> (62)</span></a></li>\n",
       "<li><a href=\"https://www.xsmp3.com/yueyunpeng.html\" title=\"岳云鹏\">岳云鹏<span class=\"tag-count\"> (143)</span></a></li>\n",
       "<li><a href=\"https://www.xsmp3.com/zhanghelun.html\" title=\"张鹤伦\">张鹤伦<span class=\"tag-count\"> (81)</span></a></li>\n",
       "<li><a href=\"https://www.xsmp3.com/zhangjiuling.html\" title=\"张九龄\">张九龄<span class=\"tag-count\"> (6)</span></a></li>\n",
       "<li><a href=\"https://www.xsmp3.com/zhangshouchen.html\" title=\"张寿臣\">张寿臣<span class=\"tag-count\"> (9)</span></a></li>\n",
       "<li><a href=\"https://www.xsmp3.com/zhangwenshun.html\" title=\"张文顺\">张文顺<span class=\"tag-count\"> (40)</span></a></li>\n",
       "<li><a href=\"https://www.xsmp3.com/zhangyongjiu.html\" title=\"张永久\">张永久<span class=\"tag-count\"> (9)</span></a></li>\n",
       "<li><a href=\"https://www.xsmp3.com/zhangyunlei.html\" title=\"张云雷\">张云雷<span class=\"tag-count\"> (6)</span></a></li>\n",
       "<li><a href=\"https://www.xsmp3.com/zhaobaole.html\" title=\"赵保乐\">赵保乐<span class=\"tag-count\"> (14)</span></a></li>\n",
       "<li><a href=\"https://www.xsmp3.com/zhaopeiru.html\" title=\"赵佩茹\">赵佩茹<span class=\"tag-count\"> (4)</span></a></li>\n",
       "<li><a href=\"https://www.xsmp3.com/zhaoshizhong.html\" title=\"赵世忠\">赵世忠<span class=\"tag-count\"> (24)</span></a></li>\n",
       "<li><a href=\"https://www.xsmp3.com/zhaoweizhou.html\" title=\"赵伟洲\">赵伟洲<span class=\"tag-count\"> (13)</span></a></li>\n",
       "<li><a href=\"https://www.xsmp3.com/zhaoyan.html\" title=\"赵炎\">赵炎<span class=\"tag-count\"> (20)</span></a></li>\n",
       "<li><a href=\"https://www.xsmp3.com/zhaoyunxia.html\" title=\"赵云侠\">赵云侠<span class=\"tag-count\"> (3)</span></a></li>\n",
       "<li><a href=\"https://www.xsmp3.com/zhaozhenduo.html\" title=\"赵振铎\">赵振铎<span class=\"tag-count\"> (20)</span></a></li>\n",
       "<li><a href=\"https://www.xsmp3.com/zhenghao.html\" title=\"郑好\">郑好<span class=\"tag-count\"> (1)</span></a></li>\n",
       "<li><a href=\"https://www.xsmp3.com/zhoujiuliang.html\" title=\"周九良\">周九良<span class=\"tag-count\"> (63)</span></a></li>\n",
       "<li><a href=\"https://www.xsmp3.com/zhuxiangchen.html\" title=\"朱相臣\">朱相臣<span class=\"tag-count\"> (13)</span></a></li></ul>\n",
       "</div> </div>\n",
       "</div>\n",
       "</div>\n",
       "<footer><p><span><a href=\"/\">相声随身听</a>｜<a href=\"/gdg.html\">郭德纲</a>｜<a href=\"/dys.html\">德云社</a>｜<a href=\"/xsxsl.html\">相声新势力</a><br/><a href=\"/qqs.html\">青曲社</a>｜<a href=\"/msl.html\">马三立</a>｜<a href=\"/hbl.html\">侯宝林</a>｜<a href=\"/lbr.html\">刘宝瑞</a>｜<a href=\"/mj.html\">马季</a>｜<a href=\"/hyw.html\">侯耀文</a><br/><a href=\"/\">www.xsmp3.com</a></span></p></footer><span id=\"go-to-top\"></span><script src=\"https://www.xsmp3.com/zb_users/theme/Jz52_zbpcool/script/custom.js\"></script><script src=\"https://www.xsmp3.com/zb_users/theme/Jz52_zbpcool/script/qrcode.min.js\"></script>\n",
       "<script src=\"https://www.xsmp3.com/zb_users/theme/Jz52_zbpcool/script/theia-sticky-sidebar.min.js\"></script>\n",
       "<script>\n",
       "$(document).ready(function() {\n",
       "\t$(\".aside\").theiaStickySidebar({\n",
       "\t\tadditionalMarginTop: 0\n",
       "\t})\n",
       "});\n",
       "  </script>\n",
       "</body>\n",
       "</html><!--44.26 ms , 9 queries , 1336kb memory , 0 error-->"
      ]
     },
     "execution_count": 40,
     "metadata": {},
     "output_type": "execute_result"
    }
   ],
   "source": [
    "soup"
   ]
  },
  {
   "cell_type": "code",
   "execution_count": 107,
   "id": "04b3fc2c",
   "metadata": {},
   "outputs": [],
   "source": [
    "import re\n",
    "\n",
    "def extract_urls(text):\n",
    "    # This regex matches url:\" followed by anything until the next double quote\n",
    "    # pattern = r'url: \"(//[^\"]+)\"'\n",
    "    pattern = r'audio:\\s*\\[(.*?)\\]'\n",
    "    urls_dict_str = re.findall(pattern, text)[0]\n",
    "    pattern = r'\\{.*?\\}'\n",
    "    urls_dict_str_list = re.findall(pattern, urls_dict_str)\n",
    "    # parse each item in to a dictionary\n",
    "    urls_dict_list = []\n",
    "    for item in urls_dict_str_list:\n",
    "        name = re.findall(r'name: \"([^\"]+)\"', item)[0].strip()\n",
    "        url = re.findall(r'url: \"([^\"]+)\"', item)[0].strip()\n",
    "        artist = re.findall(r'artist: \"([^\"]+)\"', item)[0].strip()\n",
    "        urls_dict_list.append({\"name\": name, \"url\": url, \"artist\": artist})\n",
    "    return urls_dict_list"
   ]
  },
  {
   "cell_type": "code",
   "execution_count": 86,
   "id": "aa12e943",
   "metadata": {},
   "outputs": [],
   "source": [
    "text = str(soup)\n",
    "pattern = r'audio:\\s*\\[(.*?)\\]'\n",
    "urls_dict_str = re.findall(pattern, text)[0]\n",
    "pattern = r'\\{.*?\\}'\n",
    "urls_dict_str_list = re.findall(pattern, urls_dict_str)\n",
    "# parse each item in to a dictionary\n",
    "urls_dict_list = []"
   ]
  },
  {
   "cell_type": "code",
   "execution_count": 103,
   "id": "7d64e43d",
   "metadata": {},
   "outputs": [],
   "source": [
    "for item in urls_dict_str_list:\n",
    "    name = re.findall(r'name: \"([^\"]+)\"', item)[0].strip()\n",
    "    url = re.findall(r'url: \"([^\"]+)\"', item)[0].strip()\n",
    "    artist = re.findall(r'artist: \"([^\"]+)\"', item)[0].strip()\n",
    "    break"
   ]
  },
  {
   "cell_type": "code",
   "execution_count": 105,
   "id": "311260d1",
   "metadata": {},
   "outputs": [
    {
     "data": {
      "text/plain": [
       "'//5491145.s21v.faiusr.com/55/1/ABUIABA3GAAg1IW-jgYogtHx6gM'"
      ]
     },
     "execution_count": 105,
     "metadata": {},
     "output_type": "execute_result"
    }
   ],
   "source": [
    "url"
   ]
  },
  {
   "cell_type": "code",
   "execution_count": 106,
   "id": "45391614",
   "metadata": {},
   "outputs": [
    {
     "data": {
      "text/plain": [
       "'251《西天取经》'"
      ]
     },
     "execution_count": 106,
     "metadata": {},
     "output_type": "execute_result"
    }
   ],
   "source": [
    "name"
   ]
  },
  {
   "cell_type": "code",
   "execution_count": 104,
   "id": "3ecc2cca",
   "metadata": {},
   "outputs": [
    {
     "data": {
      "text/plain": [
       "'郭德纲 于谦'"
      ]
     },
     "execution_count": 104,
     "metadata": {},
     "output_type": "execute_result"
    }
   ],
   "source": [
    "artist"
   ]
  },
  {
   "cell_type": "code",
   "execution_count": 108,
   "id": "0969f87d",
   "metadata": {},
   "outputs": [],
   "source": [
    "urls = extract_urls(str(soup))"
   ]
  },
  {
   "cell_type": "code",
   "execution_count": 116,
   "id": "6550a55b",
   "metadata": {},
   "outputs": [
    {
     "data": {
      "text/plain": [
       "'251《西天取经》;//5491145.s21v.faiusr.com/55/1/ABUIABA3GAAg1IW-jgYogtHx6gM;郭德纲 于谦'"
      ]
     },
     "execution_count": 116,
     "metadata": {},
     "output_type": "execute_result"
    }
   ],
   "source": [
    "\";\".join([urls[0][kw] for kw in urls[0]])"
   ]
  },
  {
   "cell_type": "code",
   "execution_count": null,
   "id": "a484adf8",
   "metadata": {},
   "outputs": [],
   "source": []
  },
  {
   "cell_type": "code",
   "execution_count": 77,
   "id": "1c8c29a9",
   "metadata": {},
   "outputs": [],
   "source": [
    "def parse_dict(url_string):\n",
    "    # This regex matches key: value pairs\n",
    "    pattern = r'\\{.*?\\}'\n",
    "    matches = re.findall(pattern, url_string)\n",
    "    return matches"
   ]
  },
  {
   "cell_type": "code",
   "execution_count": 80,
   "id": "9cf28a35",
   "metadata": {},
   "outputs": [
    {
     "data": {
      "text/plain": [
       "1"
      ]
     },
     "execution_count": 80,
     "metadata": {},
     "output_type": "execute_result"
    }
   ],
   "source": [
    "len(urls)"
   ]
  },
  {
   "cell_type": "code",
   "execution_count": null,
   "id": "b89ee612",
   "metadata": {},
   "outputs": [
    {
     "ename": "TypeError",
     "evalue": "expected string or bytes-like object",
     "output_type": "error",
     "traceback": [
      "\u001b[0;31m---------------------------------------------------------------------------\u001b[0m",
      "\u001b[0;31mTypeError\u001b[0m                                 Traceback (most recent call last)",
      "Cell \u001b[0;32mIn[76], line 2\u001b[0m\n\u001b[1;32m      1\u001b[0m pattern \u001b[38;5;241m=\u001b[39m \u001b[38;5;124mr\u001b[39m\u001b[38;5;124m'\u001b[39m\u001b[38;5;124m{\u001b[39m\u001b[38;5;124m([^}]+)}\u001b[39m\u001b[38;5;124m'\u001b[39m\n\u001b[0;32m----> 2\u001b[0m matches \u001b[38;5;241m=\u001b[39m \u001b[43mre\u001b[49m\u001b[38;5;241;43m.\u001b[39;49m\u001b[43mfindall\u001b[49m\u001b[43m(\u001b[49m\u001b[43mpattern\u001b[49m\u001b[43m,\u001b[49m\u001b[43m \u001b[49m\u001b[43murls\u001b[49m\u001b[43m)\u001b[49m\n",
      "File \u001b[0;32m~/miniconda3/envs/fenics/lib/python3.9/re.py:241\u001b[0m, in \u001b[0;36mfindall\u001b[0;34m(pattern, string, flags)\u001b[0m\n\u001b[1;32m    233\u001b[0m \u001b[38;5;28;01mdef\u001b[39;00m\u001b[38;5;250m \u001b[39m\u001b[38;5;21mfindall\u001b[39m(pattern, string, flags\u001b[38;5;241m=\u001b[39m\u001b[38;5;241m0\u001b[39m):\n\u001b[1;32m    234\u001b[0m \u001b[38;5;250m    \u001b[39m\u001b[38;5;124;03m\"\"\"Return a list of all non-overlapping matches in the string.\u001b[39;00m\n\u001b[1;32m    235\u001b[0m \n\u001b[1;32m    236\u001b[0m \u001b[38;5;124;03m    If one or more capturing groups are present in the pattern, return\u001b[39;00m\n\u001b[0;32m   (...)\u001b[0m\n\u001b[1;32m    239\u001b[0m \n\u001b[1;32m    240\u001b[0m \u001b[38;5;124;03m    Empty matches are included in the result.\"\"\"\u001b[39;00m\n\u001b[0;32m--> 241\u001b[0m     \u001b[38;5;28;01mreturn\u001b[39;00m \u001b[43m_compile\u001b[49m\u001b[43m(\u001b[49m\u001b[43mpattern\u001b[49m\u001b[43m,\u001b[49m\u001b[43m \u001b[49m\u001b[43mflags\u001b[49m\u001b[43m)\u001b[49m\u001b[38;5;241;43m.\u001b[39;49m\u001b[43mfindall\u001b[49m\u001b[43m(\u001b[49m\u001b[43mstring\u001b[49m\u001b[43m)\u001b[49m\n",
      "\u001b[0;31mTypeError\u001b[0m: expected string or bytes-like object"
     ]
    }
   ],
   "source": [
    "pattern = r'\\{.*?\\}'\n",
    "matches = re.findall(pattern, urls)"
   ]
  },
  {
   "cell_type": "code",
   "execution_count": 78,
   "id": "93997f55",
   "metadata": {},
   "outputs": [
    {
     "ename": "TypeError",
     "evalue": "expected string or bytes-like object",
     "output_type": "error",
     "traceback": [
      "\u001b[0;31m---------------------------------------------------------------------------\u001b[0m",
      "\u001b[0;31mTypeError\u001b[0m                                 Traceback (most recent call last)",
      "Cell \u001b[0;32mIn[78], line 1\u001b[0m\n\u001b[0;32m----> 1\u001b[0m \u001b[43mparse_dict\u001b[49m\u001b[43m(\u001b[49m\u001b[43murls\u001b[49m\u001b[43m)\u001b[49m\n",
      "Cell \u001b[0;32mIn[77], line 4\u001b[0m, in \u001b[0;36mparse_dict\u001b[0;34m(url_string)\u001b[0m\n\u001b[1;32m      1\u001b[0m \u001b[38;5;28;01mdef\u001b[39;00m\u001b[38;5;250m \u001b[39m\u001b[38;5;21mparse_dict\u001b[39m(url_string):\n\u001b[1;32m      2\u001b[0m     \u001b[38;5;66;03m# This regex matches key: value pairs\u001b[39;00m\n\u001b[1;32m      3\u001b[0m     pattern \u001b[38;5;241m=\u001b[39m \u001b[38;5;124mr\u001b[39m\u001b[38;5;124m'\u001b[39m\u001b[38;5;124m\\\u001b[39m\u001b[38;5;124m{\u001b[39m\u001b[38;5;124m.*?\u001b[39m\u001b[38;5;124m\\\u001b[39m\u001b[38;5;124m}\u001b[39m\u001b[38;5;124m'\u001b[39m\n\u001b[0;32m----> 4\u001b[0m     matches \u001b[38;5;241m=\u001b[39m \u001b[43mre\u001b[49m\u001b[38;5;241;43m.\u001b[39;49m\u001b[43mfindall\u001b[49m\u001b[43m(\u001b[49m\u001b[43mpattern\u001b[49m\u001b[43m,\u001b[49m\u001b[43m \u001b[49m\u001b[43murl_string\u001b[49m\u001b[43m)\u001b[49m\n\u001b[1;32m      5\u001b[0m     \u001b[38;5;28;01mreturn\u001b[39;00m matches\n",
      "File \u001b[0;32m~/miniconda3/envs/fenics/lib/python3.9/re.py:241\u001b[0m, in \u001b[0;36mfindall\u001b[0;34m(pattern, string, flags)\u001b[0m\n\u001b[1;32m    233\u001b[0m \u001b[38;5;28;01mdef\u001b[39;00m\u001b[38;5;250m \u001b[39m\u001b[38;5;21mfindall\u001b[39m(pattern, string, flags\u001b[38;5;241m=\u001b[39m\u001b[38;5;241m0\u001b[39m):\n\u001b[1;32m    234\u001b[0m \u001b[38;5;250m    \u001b[39m\u001b[38;5;124;03m\"\"\"Return a list of all non-overlapping matches in the string.\u001b[39;00m\n\u001b[1;32m    235\u001b[0m \n\u001b[1;32m    236\u001b[0m \u001b[38;5;124;03m    If one or more capturing groups are present in the pattern, return\u001b[39;00m\n\u001b[0;32m   (...)\u001b[0m\n\u001b[1;32m    239\u001b[0m \n\u001b[1;32m    240\u001b[0m \u001b[38;5;124;03m    Empty matches are included in the result.\"\"\"\u001b[39;00m\n\u001b[0;32m--> 241\u001b[0m     \u001b[38;5;28;01mreturn\u001b[39;00m \u001b[43m_compile\u001b[49m\u001b[43m(\u001b[49m\u001b[43mpattern\u001b[49m\u001b[43m,\u001b[49m\u001b[43m \u001b[49m\u001b[43mflags\u001b[49m\u001b[43m)\u001b[49m\u001b[38;5;241;43m.\u001b[39;49m\u001b[43mfindall\u001b[49m\u001b[43m(\u001b[49m\u001b[43mstring\u001b[49m\u001b[43m)\u001b[49m\n",
      "\u001b[0;31mTypeError\u001b[0m: expected string or bytes-like object"
     ]
    }
   ],
   "source": [
    "parse_dict(urls)"
   ]
  },
  {
   "cell_type": "code",
   "execution_count": 66,
   "id": "cae0fe74",
   "metadata": {},
   "outputs": [
    {
     "data": {
      "text/plain": [
       "'{\"name\": \"251《西天取经》\",\"artist\": \"郭德纲 于谦\",\"url\": \"//5491145.s21v.faiusr.com/55/1/ABUIABA3GAAg1IW-jgYogtHx6gM\",\"cover\": \"\"https\"://www.xsmp3.com/zb_users/theme/Jz52_zbpcool/plugin/APlayer/no4.jpg\"},{\"name\": \"252《西游大战》\",\"artist\": \"郭德纲 于谦\",\"url\": \"//5491145.s21v.faiusr.com/55/1/ABUIABA3GAAgoY2-jgYo1Ky8wwM\",\"cover\": \"\"https\"://www.xsmp3.com/zb_users/theme/Jz52_zbpcool/plugin/APlayer/no10.jpg\"},{\"name\": \"253《西征梦》\",\"artist\": \"郭德纲 于谦\",\"url\": \"//5491145.s21v.faiusr.com/55/1/ABUIABA3GAAg2Y2-jgYoif6DrwM\",\"cover\": \"\"https\"://www.xsmp3.com/zb_users/theme/Jz52_zbpcool/plugin/APlayer/no3.jpg\"},{\"name\": \"254《洗浴中心着火裸奔》\",\"artist\": \"郭德纲 于谦\",\"url\": \"//5491145.s21v.faiusr.com/55/1/ABUIABA3GAAg3o2-jgYojpzfkQI\",\"cover\": \"\"https\"://www.xsmp3.com/zb_users/theme/Jz52_zbpcool/plugin/APlayer/no10.jpg\"},{\"name\": \"255《戏剧与方言》\",\"artist\": \"郭德纲 于谦\",\"url\": \"//5491145.s21v.faiusr.com/55/1/ABUIABA3GAAg-42-jgYo9f-59QQ\",\"cover\": \"\"https\"://www.xsmp3.com/zb_users/theme/Jz52_zbpcool/plugin/APlayer/no2.jpg\"},{\"name\": \"256《戏叔别兄》\",\"artist\": \"郭德纲 于谦\",\"url\": \"//5491145.s21v.faiusr.com/55/1/ABUIABA3GAAg3I6-jgYor_O-oAQ\",\"cover\": \"\"https\"://www.xsmp3.com/zb_users/theme/Jz52_zbpcool/plugin/APlayer/no1.jpg\"},{\"name\": \"257《先生贵姓》\",\"artist\": \"郭德纲 于谦\",\"url\": \"//5491145.s21v.faiusr.com/55/1/ABUIABA3GAAg_I6-jgYo6pjGmgc\",\"cover\": \"\"https\"://www.xsmp3.com/zb_users/theme/Jz52_zbpcool/plugin/APlayer/no2.jpg\"},{\"name\": \"258《现场直播》\",\"artist\": \"郭德纲 于谦\",\"url\": \"//5491145.s21v.faiusr.com/55/1/ABUIABA3GAAg_46-jgYo9YSQmAQ\",\"cover\": \"\"https\"://www.xsmp3.com/zb_users/theme/Jz52_zbpcool/plugin/APlayer/no9.jpg\"},{\"name\": \"259《相面》\",\"artist\": \"郭德纲 于谦\",\"url\": \"//5491145.s21v.faiusr.com/55/1/ABUIABA3GAAgk4_-jgYo1KO3_gU\",\"cover\": \"\"https\"://www.xsmp3.com/zb_users/theme/Jz52_zbpcool/plugin/APlayer/no4.jpg\"},{\"name\": \"260《相声圈里那些事儿》\",\"artist\": \"郭德纲 于谦 岳云鹏\",\"url\": \"//5491145.s21v.faiusr.com/55/1/ABUIABA3GAAgmo_-jgYo0PqK5gc\",\"cover\": \"\"https\"://www.xsmp3.com/zb_users/theme/Jz52_zbpcool/plugin/APlayer/no2.jpg\"},{\"name\": \"261《相声小段01》\",\"artist\": \"郭德纲 于谦\",\"url\": \"//5491145.s21v.faiusr.com/55/1/ABUIABA3GAAgtY_-jgYo6MyLhQU\",\"cover\": \"\"https\"://www.xsmp3.com/zb_users/theme/Jz52_zbpcool/plugin/APlayer/no7.jpg\"},{\"name\": \"262《相声小段02》\",\"artist\": \"郭德纲 于谦\",\"url\": \"//5491145.s21v.faiusr.com/55/1/ABUIABA3GAAg5o_-jgYomrGN6wM\",\"cover\": \"\"https\"://www.xsmp3.com/zb_users/theme/Jz52_zbpcool/plugin/APlayer/no10.jpg\"},{\"name\": \"263《相声小段03》\",\"artist\": \"郭德纲 于谦\",\"url\": \"//5491145.s21v.faiusr.com/55/1/ABUIABA3GAAg-o_-jgYouP7j2QY\",\"cover\": \"\"https\"://www.xsmp3.com/zb_users/theme/Jz52_zbpcool/plugin/APlayer/no10.jpg\"},{\"name\": \"264《相声小段04》\",\"artist\": \"郭德纲 于谦\",\"url\": \"//5491145.s21v.faiusr.com/55/1/ABUIABA3GAAgnpC-jgYo25rPZQ\",\"cover\": \"\"https\"://www.xsmp3.com/zb_users/theme/Jz52_zbpcool/plugin/APlayer/no5.jpg\"},{\"name\": \"265《想唱就唱》\",\"artist\": \"郭德纲 于谦\",\"url\": \"//5491145.s21v.faiusr.com/55/1/ABUIABA3GAAgqJC-jgYogpeijgc\",\"cover\": \"\"https\"://www.xsmp3.com/zb_users/theme/Jz52_zbpcool/plugin/APlayer/no9.jpg\"},{\"name\": \"266《笑傲江湖》\",\"artist\": \"郭德纲 于谦\",\"url\": \"//5491145.s21v.faiusr.com/55/1/ABUIABA3GAAgtJC-jgYo5te-lgE\",\"cover\": \"\"https\"://www.xsmp3.com/zb_users/theme/Jz52_zbpcool/plugin/APlayer/no10.jpg\"},{\"name\": \"267《心服口服》\",\"artist\": \"郭德纲 于谦\",\"url\": \"//5491145.s21v.faiusr.com/55/1/ABUIABA3GAAgq5G-jgYo2PitqQY\",\"cover\": \"\"https\"://www.xsmp3.com/zb_users/theme/Jz52_zbpcool/plugin/APlayer/no1.jpg\"},{\"name\": \"268《新婚晚上累坏了》\",\"artist\": \"郭德纲 于谦\",\"url\": \"//5491145.s21v.faiusr.com/55/1/ABUIABA3GAAgxpG-jgYogMjRpAQ\",\"cover\": \"\"https\"://www.xsmp3.com/zb_users/theme/Jz52_zbpcool/plugin/APlayer/no9.jpg\"},{\"name\": \"269《新师傅经》\",\"artist\": \"郭德纲 于谦\",\"url\": \"//5491145.s21v.faiusr.com/55/1/ABUIABA3GAAg0ZG-jgYogIKqIA\",\"cover\": \"\"https\"://www.xsmp3.com/zb_users/theme/Jz52_zbpcool/plugin/APlayer/no9.jpg\"},{\"name\": \"270《新西兰游记》\",\"artist\": \"郭德纲 于谦\",\"url\": \"//5491145.s21v.faiusr.com/55/1/ABUIABA3GAAg8pG-jgYotuOirwU\",\"cover\": \"\"https\"://www.xsmp3.com/zb_users/theme/Jz52_zbpcool/plugin/APlayer/no1.jpg\"},{\"name\": \"271《行为艺术》\",\"artist\": \"郭德纲 于谦\",\"url\": \"//5491145.s21v.faiusr.com/55/1/ABUIABA3GAAg-5G-jgYo0rXy6wQ\",\"cover\": \"\"https\"://www.xsmp3.com/zb_users/theme/Jz52_zbpcool/plugin/APlayer/no10.jpg\"},{\"name\": \"272《行业论》\",\"artist\": \"郭德纲 于谦\",\"url\": \"//5491145.s21v.faiusr.com/55/1/ABUIABA3GAAglpK-jgYoxu-NmQc\",\"cover\": \"\"https\"://www.xsmp3.com/zb_users/theme/Jz52_zbpcool/plugin/APlayer/no6.jpg\"},{\"name\": \"273《兄弟情长》\",\"artist\": \"郭德纲 于谦\",\"url\": \"//5491145.s21v.faiusr.com/55/1/ABUIABA3GAAgsJK-jgYo2__GswM\",\"cover\": \"\"https\"://www.xsmp3.com/zb_users/theme/Jz52_zbpcool/plugin/APlayer/no2.jpg\"},{\"name\": \"274《旋转跳跃闭着眼》\",\"artist\": \"郭德纲 于谦\",\"url\": \"//5491145.s21v.faiusr.com/55/1/ABUIABA3GAAglZO-jgYouZ-JhAY\",\"cover\": \"\"https\"://www.xsmp3.com/zb_users/theme/Jz52_zbpcool/plugin/APlayer/no1.jpg\"},{\"name\": \"275《学聋哑》\",\"artist\": \"郭德纲 于谦\",\"url\": \"//5491145.s21v.faiusr.com/55/1/ABUIABA3GAAgnpO-jgYo7KLSvgM\",\"cover\": \"\"https\"://www.xsmp3.com/zb_users/theme/Jz52_zbpcool/plugin/APlayer/no4.jpg\"},{\"name\": \"276《学生时代》\",\"artist\": \"郭德纲 于谦\",\"url\": \"//5491145.s21v.faiusr.com/55/1/ABUIABA3GAAg3ZO-jgYozcT7igE\",\"cover\": \"\"https\"://www.xsmp3.com/zb_users/theme/Jz52_zbpcool/plugin/APlayer/no8.jpg\"},{\"name\": \"277《学生也疯狂》\",\"artist\": \"郭德纲 于谦\",\"url\": \"//5491145.s21v.faiusr.com/55/1/ABUIABA3GAAg5pO-jgYo_OzUhwY\",\"cover\": \"\"https\"://www.xsmp3.com/zb_users/theme/Jz52_zbpcool/plugin/APlayer/no6.jpg\"},{\"name\": \"278《学跳舞》\",\"artist\": \"郭德纲 于谦\",\"url\": \"//5491145.s21v.faiusr.com/55/1/ABUIABA3GAAghJS-jgYo2dXakwQ\",\"cover\": \"\"https\"://www.xsmp3.com/zb_users/theme/Jz52_zbpcool/plugin/APlayer/no8.jpg\"},{\"name\": \"279《学问家》\",\"artist\": \"郭德纲 于谦\",\"url\": \"//5491145.s21v.faiusr.com/55/1/ABUIABA3GAAgtZS-jgYomvmisgc\",\"cover\": \"\"https\"://www.xsmp3.com/zb_users/theme/Jz52_zbpcool/plugin/APlayer/no1.jpg\"},{\"name\": \"280《学西河》\",\"artist\": \"郭德纲 于谦\",\"url\": \"//5491145.s21v.faiusr.com/55/1/ABUIABA3GAAg35S-jgYo5rex6AQ\",\"cover\": \"\"https\"://www.xsmp3.com/zb_users/theme/Jz52_zbpcool/plugin/APlayer/no4.jpg\"},{\"name\": \"281《学小调》\",\"artist\": \"郭德纲 于谦\",\"url\": \"//5491145.s21v.faiusr.com/55/1/ABUIABA3GAAgsZW-jgYo6oXx_gI\",\"cover\": \"\"https\"://www.xsmp3.com/zb_users/theme/Jz52_zbpcool/plugin/APlayer/no1.jpg\"},{\"name\": \"282《学小曲儿》\",\"artist\": \"郭德纲 于谦\",\"url\": \"//5491145.s21v.faiusr.com/55/1/ABUIABA3GAAg9pW-jgYooJjXlgY\",\"cover\": \"\"https\"://www.xsmp3.com/zb_users/theme/Jz52_zbpcool/plugin/APlayer/no7.jpg\"},{\"name\": \"283《学医记》\",\"artist\": \"郭德纲 于谦\",\"url\": \"//5491145.s21v.faiusr.com/55/1/ABUIABA3GAAgwpi-jgYo2tfXqgE\",\"cover\": \"\"https\"://www.xsmp3.com/zb_users/theme/Jz52_zbpcool/plugin/APlayer/no5.jpg\"},{\"name\": \"284《羊上树》\",\"artist\": \"郭德纲 于谦\",\"url\": \"//5491145.s21v.faiusr.com/55/1/ABUIABA3GAAgy5i-jgYo7J-sywE\",\"cover\": \"\"https\"://www.xsmp3.com/zb_users/theme/Jz52_zbpcool/plugin/APlayer/no8.jpg\"},{\"name\": \"285《杨乃武写状》\",\"artist\": \"郭德纲 于谦\",\"url\": \"//5491145.s21v.faiusr.com/55/1/ABUIABA3GAAg-pm-jgYozOfrhAI\",\"cover\": \"\"https\"://www.xsmp3.com/zb_users/theme/Jz52_zbpcool/plugin/APlayer/no3.jpg\"},{\"name\": \"286《杨乃武与小白菜》\",\"artist\": \"郭德纲 于谦\",\"url\": \"//5491145.s21v.faiusr.com/55/1/ABUIABA3GAAgrJy-jgYogKzPuQc\",\"cover\": \"\"https\"://www.xsmp3.com/zb_users/theme/Jz52_zbpcool/plugin/APlayer/no6.jpg\"},{\"name\": \"287《养宠物》\",\"artist\": \"郭德纲 于谦\",\"url\": \"//5491145.s21v.faiusr.com/55/1/ABUIABA3GAAgsJy-jgYo-KXPwAM\",\"cover\": \"\"https\"://www.xsmp3.com/zb_users/theme/Jz52_zbpcool/plugin/APlayer/no8.jpg\"},{\"name\": \"288《摇元宵》\",\"artist\": \"郭德纲 于谦\",\"url\": \"//5491145.s21v.faiusr.com/55/1/ABUIABA3GAAgtpy-jgYogICJvQQ\",\"cover\": \"\"https\"://www.xsmp3.com/zb_users/theme/Jz52_zbpcool/plugin/APlayer/no2.jpg\"},{\"name\": \"289《药引子》\",\"artist\": \"郭德纲 于谦\",\"url\": \"//5491145.s21v.faiusr.com/55/1/ABUIABA3GAAgwZy-jgYo9sqT_QI\",\"cover\": \"\"https\"://www.xsmp3.com/zb_users/theme/Jz52_zbpcool/plugin/APlayer/no9.jpg\"},{\"name\": \"290《夜行记》\",\"artist\": \"郭德纲 于谦\",\"url\": \"//5491145.s21v.faiusr.com/55/1/ABUIABA3GAAg6py-jgYojYPA_AQ\",\"cover\": \"\"https\"://www.xsmp3.com/zb_users/theme/Jz52_zbpcool/plugin/APlayer/no10.jpg\"},{\"name\": \"291《一被子的朋友》\",\"artist\": \"郭德纲 于谦\",\"url\": \"//5491145.s21v.faiusr.com/55/1/ABUIABA3GAAguZ2-jgYok5rHigc\",\"cover\": \"\"https\"://www.xsmp3.com/zb_users/theme/Jz52_zbpcool/plugin/APlayer/no1.jpg\"},{\"name\": \"292《一户侯》\",\"artist\": \"郭德纲 于谦\",\"url\": \"//5491145.s21v.faiusr.com/55/1/ABUIABA3GAAgjZ6-jgYoytql6wM\",\"cover\": \"\"https\"://www.xsmp3.com/zb_users/theme/Jz52_zbpcool/plugin/APlayer/no1.jpg\"},{\"name\": \"293《一起打台球》\",\"artist\": \"郭德纲 于谦\",\"url\": \"//5491145.s21v.faiusr.com/55/1/ABUIABA3GAAgpJ6-jgYo-MaCiQM\",\"cover\": \"\"https\"://www.xsmp3.com/zb_users/theme/Jz52_zbpcool/plugin/APlayer/no8.jpg\"},{\"name\": \"294《艺术漫谈》\",\"artist\": \"郭德纲 于谦\",\"url\": \"//5491145.s21v.faiusr.com/55/1/ABUIABA3GAAgq5_-jgYo8OyTxwQ\",\"cover\": \"\"https\"://www.xsmp3.com/zb_users/theme/Jz52_zbpcool/plugin/APlayer/no3.jpg\"},{\"name\": \"295《于老师打人了》\",\"artist\": \"郭德纲 于谦\",\"url\": \"//5491145.s21v.faiusr.com/55/1/ABUIABA3GAAgz6C-jgYo2PXDZQ\",\"cover\": \"\"https\"://www.xsmp3.com/zb_users/theme/Jz52_zbpcool/plugin/APlayer/no3.jpg\"},{\"name\": \"296《于老师弹钢琴》\",\"artist\": \"郭德纲 于谦\",\"url\": \"//5491145.s21v.faiusr.com/55/1/ABUIABA3GAAgo6G-jgYokMuysQc\",\"cover\": \"\"https\"://www.xsmp3.com/zb_users/theme/Jz52_zbpcool/plugin/APlayer/no4.jpg\"},{\"name\": \"297《于老师的小妹》\",\"artist\": \"郭德纲 于谦\",\"url\": \"//5491145.s21v.faiusr.com/55/1/ABUIABA3GAAgjaK-jgYohr7GmQc\",\"cover\": \"\"https\"://www.xsmp3.com/zb_users/theme/Jz52_zbpcool/plugin/APlayer/no2.jpg\"},{\"name\": \"298《于老师真坏》\",\"artist\": \"郭德纲 于谦\",\"url\": \"//5491145.s21v.faiusr.com/55/1/ABUIABA3GAAg-KO-jgYo9Lzi2wI\",\"cover\": \"\"https\"://www.xsmp3.com/zb_users/theme/Jz52_zbpcool/plugin/APlayer/no9.jpg\"},{\"name\": \"299《于老师真厉害》\",\"artist\": \"郭德纲 于谦\",\"url\": \"//5491145.s21v.faiusr.com/55/1/ABUIABA3GAAgkaW-jgYo3PSKpQY\",\"cover\": \"\"https\"://www.xsmp3.com/zb_users/theme/Jz52_zbpcool/plugin/APlayer/no9.jpg\"},{\"name\": \"300《于谦被妖怪抓走了》\",\"artist\": \"郭德纲 于谦\",\"url\": \"//5491145.s21v.faiusr.com/55/1/ABUIABA3GAAgqqa-jgYojLnl8wM\",\"cover\": \"\"https\"://www.xsmp3.com/zb_users/theme/Jz52_zbpcool/plugin/APlayer/no7.jpg\"},'"
      ]
     },
     "execution_count": 66,
     "metadata": {},
     "output_type": "execute_result"
    }
   ],
   "source": [
    "fixed_str"
   ]
  },
  {
   "cell_type": "code",
   "execution_count": 65,
   "id": "247ae57a",
   "metadata": {},
   "outputs": [
    {
     "ename": "JSONDecodeError",
     "evalue": "Expecting ',' delimiter: line 1 column 120 (char 119)",
     "output_type": "error",
     "traceback": [
      "\u001b[0;31m---------------------------------------------------------------------------\u001b[0m",
      "\u001b[0;31mJSONDecodeError\u001b[0m                           Traceback (most recent call last)",
      "Cell \u001b[0;32mIn[65], line 6\u001b[0m\n\u001b[1;32m      4\u001b[0m \u001b[38;5;28;01mfor\u001b[39;00m url_string \u001b[38;5;129;01min\u001b[39;00m urls:\n\u001b[1;32m      5\u001b[0m     fixed_str \u001b[38;5;241m=\u001b[39m re\u001b[38;5;241m.\u001b[39msub(\u001b[38;5;124mr\u001b[39m\u001b[38;5;124m'\u001b[39m\u001b[38;5;124m(\u001b[39m\u001b[38;5;124m\\\u001b[39m\u001b[38;5;124mw+):\u001b[39m\u001b[38;5;124m'\u001b[39m, \u001b[38;5;124mr\u001b[39m\u001b[38;5;124m'\u001b[39m\u001b[38;5;124m\"\u001b[39m\u001b[38;5;124m\\\u001b[39m\u001b[38;5;124m1\u001b[39m\u001b[38;5;124m\"\u001b[39m\u001b[38;5;124m:\u001b[39m\u001b[38;5;124m'\u001b[39m, url_string)\n\u001b[0;32m----> 6\u001b[0m     url_dict \u001b[38;5;241m=\u001b[39m \u001b[43mjson\u001b[49m\u001b[38;5;241;43m.\u001b[39;49m\u001b[43mloads\u001b[49m\u001b[43m(\u001b[49m\u001b[43mfixed_str\u001b[49m\u001b[43m)\u001b[49m\n\u001b[1;32m      7\u001b[0m     url \u001b[38;5;241m=\u001b[39m url_dict[\u001b[38;5;124m\"\u001b[39m\u001b[38;5;124murl\u001b[39m\u001b[38;5;124m\"\u001b[39m]\n\u001b[1;32m      8\u001b[0m     \u001b[38;5;28mprint\u001b[39m(\u001b[38;5;124mf\u001b[39m\u001b[38;5;124m\"\u001b[39m\u001b[38;5;132;01m{\u001b[39;00mcounter\u001b[38;5;132;01m}\u001b[39;00m\u001b[38;5;124m: \u001b[39m\u001b[38;5;132;01m{\u001b[39;00murl\u001b[38;5;132;01m}\u001b[39;00m\u001b[38;5;124m\"\u001b[39m)\n",
      "File \u001b[0;32m~/miniconda3/envs/fenics/lib/python3.9/json/__init__.py:346\u001b[0m, in \u001b[0;36mloads\u001b[0;34m(s, cls, object_hook, parse_float, parse_int, parse_constant, object_pairs_hook, **kw)\u001b[0m\n\u001b[1;32m    341\u001b[0m     s \u001b[38;5;241m=\u001b[39m s\u001b[38;5;241m.\u001b[39mdecode(detect_encoding(s), \u001b[38;5;124m'\u001b[39m\u001b[38;5;124msurrogatepass\u001b[39m\u001b[38;5;124m'\u001b[39m)\n\u001b[1;32m    343\u001b[0m \u001b[38;5;28;01mif\u001b[39;00m (\u001b[38;5;28mcls\u001b[39m \u001b[38;5;129;01mis\u001b[39;00m \u001b[38;5;28;01mNone\u001b[39;00m \u001b[38;5;129;01mand\u001b[39;00m object_hook \u001b[38;5;129;01mis\u001b[39;00m \u001b[38;5;28;01mNone\u001b[39;00m \u001b[38;5;129;01mand\u001b[39;00m\n\u001b[1;32m    344\u001b[0m         parse_int \u001b[38;5;129;01mis\u001b[39;00m \u001b[38;5;28;01mNone\u001b[39;00m \u001b[38;5;129;01mand\u001b[39;00m parse_float \u001b[38;5;129;01mis\u001b[39;00m \u001b[38;5;28;01mNone\u001b[39;00m \u001b[38;5;129;01mand\u001b[39;00m\n\u001b[1;32m    345\u001b[0m         parse_constant \u001b[38;5;129;01mis\u001b[39;00m \u001b[38;5;28;01mNone\u001b[39;00m \u001b[38;5;129;01mand\u001b[39;00m object_pairs_hook \u001b[38;5;129;01mis\u001b[39;00m \u001b[38;5;28;01mNone\u001b[39;00m \u001b[38;5;129;01mand\u001b[39;00m \u001b[38;5;129;01mnot\u001b[39;00m kw):\n\u001b[0;32m--> 346\u001b[0m     \u001b[38;5;28;01mreturn\u001b[39;00m \u001b[43m_default_decoder\u001b[49m\u001b[38;5;241;43m.\u001b[39;49m\u001b[43mdecode\u001b[49m\u001b[43m(\u001b[49m\u001b[43ms\u001b[49m\u001b[43m)\u001b[49m\n\u001b[1;32m    347\u001b[0m \u001b[38;5;28;01mif\u001b[39;00m \u001b[38;5;28mcls\u001b[39m \u001b[38;5;129;01mis\u001b[39;00m \u001b[38;5;28;01mNone\u001b[39;00m:\n\u001b[1;32m    348\u001b[0m     \u001b[38;5;28mcls\u001b[39m \u001b[38;5;241m=\u001b[39m JSONDecoder\n",
      "File \u001b[0;32m~/miniconda3/envs/fenics/lib/python3.9/json/decoder.py:337\u001b[0m, in \u001b[0;36mJSONDecoder.decode\u001b[0;34m(self, s, _w)\u001b[0m\n\u001b[1;32m    332\u001b[0m \u001b[38;5;28;01mdef\u001b[39;00m\u001b[38;5;250m \u001b[39m\u001b[38;5;21mdecode\u001b[39m(\u001b[38;5;28mself\u001b[39m, s, _w\u001b[38;5;241m=\u001b[39mWHITESPACE\u001b[38;5;241m.\u001b[39mmatch):\n\u001b[1;32m    333\u001b[0m \u001b[38;5;250m    \u001b[39m\u001b[38;5;124;03m\"\"\"Return the Python representation of ``s`` (a ``str`` instance\u001b[39;00m\n\u001b[1;32m    334\u001b[0m \u001b[38;5;124;03m    containing a JSON document).\u001b[39;00m\n\u001b[1;32m    335\u001b[0m \n\u001b[1;32m    336\u001b[0m \u001b[38;5;124;03m    \"\"\"\u001b[39;00m\n\u001b[0;32m--> 337\u001b[0m     obj, end \u001b[38;5;241m=\u001b[39m \u001b[38;5;28;43mself\u001b[39;49m\u001b[38;5;241;43m.\u001b[39;49m\u001b[43mraw_decode\u001b[49m\u001b[43m(\u001b[49m\u001b[43ms\u001b[49m\u001b[43m,\u001b[49m\u001b[43m \u001b[49m\u001b[43midx\u001b[49m\u001b[38;5;241;43m=\u001b[39;49m\u001b[43m_w\u001b[49m\u001b[43m(\u001b[49m\u001b[43ms\u001b[49m\u001b[43m,\u001b[49m\u001b[43m \u001b[49m\u001b[38;5;241;43m0\u001b[39;49m\u001b[43m)\u001b[49m\u001b[38;5;241;43m.\u001b[39;49m\u001b[43mend\u001b[49m\u001b[43m(\u001b[49m\u001b[43m)\u001b[49m\u001b[43m)\u001b[49m\n\u001b[1;32m    338\u001b[0m     end \u001b[38;5;241m=\u001b[39m _w(s, end)\u001b[38;5;241m.\u001b[39mend()\n\u001b[1;32m    339\u001b[0m     \u001b[38;5;28;01mif\u001b[39;00m end \u001b[38;5;241m!=\u001b[39m \u001b[38;5;28mlen\u001b[39m(s):\n",
      "File \u001b[0;32m~/miniconda3/envs/fenics/lib/python3.9/json/decoder.py:353\u001b[0m, in \u001b[0;36mJSONDecoder.raw_decode\u001b[0;34m(self, s, idx)\u001b[0m\n\u001b[1;32m    344\u001b[0m \u001b[38;5;250m\u001b[39m\u001b[38;5;124;03m\"\"\"Decode a JSON document from ``s`` (a ``str`` beginning with\u001b[39;00m\n\u001b[1;32m    345\u001b[0m \u001b[38;5;124;03ma JSON document) and return a 2-tuple of the Python\u001b[39;00m\n\u001b[1;32m    346\u001b[0m \u001b[38;5;124;03mrepresentation and the index in ``s`` where the document ended.\u001b[39;00m\n\u001b[0;32m   (...)\u001b[0m\n\u001b[1;32m    350\u001b[0m \n\u001b[1;32m    351\u001b[0m \u001b[38;5;124;03m\"\"\"\u001b[39;00m\n\u001b[1;32m    352\u001b[0m \u001b[38;5;28;01mtry\u001b[39;00m:\n\u001b[0;32m--> 353\u001b[0m     obj, end \u001b[38;5;241m=\u001b[39m \u001b[38;5;28;43mself\u001b[39;49m\u001b[38;5;241;43m.\u001b[39;49m\u001b[43mscan_once\u001b[49m\u001b[43m(\u001b[49m\u001b[43ms\u001b[49m\u001b[43m,\u001b[49m\u001b[43m \u001b[49m\u001b[43midx\u001b[49m\u001b[43m)\u001b[49m\n\u001b[1;32m    354\u001b[0m \u001b[38;5;28;01mexcept\u001b[39;00m \u001b[38;5;167;01mStopIteration\u001b[39;00m \u001b[38;5;28;01mas\u001b[39;00m err:\n\u001b[1;32m    355\u001b[0m     \u001b[38;5;28;01mraise\u001b[39;00m JSONDecodeError(\u001b[38;5;124m\"\u001b[39m\u001b[38;5;124mExpecting value\u001b[39m\u001b[38;5;124m\"\u001b[39m, s, err\u001b[38;5;241m.\u001b[39mvalue) \u001b[38;5;28;01mfrom\u001b[39;00m\u001b[38;5;250m \u001b[39m\u001b[38;5;28;01mNone\u001b[39;00m\n",
      "\u001b[0;31mJSONDecodeError\u001b[0m: Expecting ',' delimiter: line 1 column 120 (char 119)"
     ]
    }
   ],
   "source": [
    "import json, re\n",
    "\n",
    "counter = 0\n",
    "for url_string in urls:\n",
    "    fixed_str = re.sub(r'(\\w+):', r'\"\\1\":', url_string)\n",
    "    url_dict = json.loads(fixed_str)\n",
    "    url = url_dict[\"url\"]\n",
    "    print(f\"{counter}: {url}\")\n",
    "    counter += 1\n",
    "    break"
   ]
  },
  {
   "cell_type": "code",
   "execution_count": 12,
   "id": "84f20a8a",
   "metadata": {},
   "outputs": [
    {
     "data": {
      "text/plain": [
       "str"
      ]
     },
     "execution_count": 12,
     "metadata": {},
     "output_type": "execute_result"
    }
   ],
   "source": [
    "type(soup.text)"
   ]
  },
  {
   "cell_type": "code",
   "execution_count": 4,
   "id": "1c1bf68f",
   "metadata": {},
   "outputs": [],
   "source": [
    "# Find all links to MP3 files\n",
    "for link in soup.find_all(\"a\"):\n",
    "    href = link.get(\"href\")\n",
    "    if href and href.endswith(\".mp3\"):\n",
    "        mp3_url = urljoin(base_url, href)\n",
    "        filename = os.path.basename(mp3_url)\n",
    "        filepath = os.path.join(\"gdg_yq_3_downloads\", filename)\n",
    "\n",
    "        print(f\"Downloading {filename}...\")\n",
    "        try:\n",
    "            with requests.get(mp3_url, headers=headers, stream=True) as r:\n",
    "                r.raise_for_status()\n",
    "                with open(filepath, 'wb') as f:\n",
    "                    for chunk in r.iter_content(chunk_size=8192):\n",
    "                        f.write(chunk)\n",
    "            print(f\"Saved: {filepath}\")\n",
    "        except Exception as e:\n",
    "            print(f\"Failed to download {filename}: {e}\")"
   ]
  },
  {
   "cell_type": "code",
   "execution_count": null,
   "id": "d05a10d8",
   "metadata": {},
   "outputs": [],
   "source": []
  }
 ],
 "metadata": {
  "kernelspec": {
   "display_name": "fenics",
   "language": "python",
   "name": "python3"
  },
  "language_info": {
   "codemirror_mode": {
    "name": "ipython",
    "version": 3
   },
   "file_extension": ".py",
   "mimetype": "text/x-python",
   "name": "python",
   "nbconvert_exporter": "python",
   "pygments_lexer": "ipython3",
   "version": "3.9.18"
  }
 },
 "nbformat": 4,
 "nbformat_minor": 5
}
