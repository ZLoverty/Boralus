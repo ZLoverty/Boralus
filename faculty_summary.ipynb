{
 "cells": [
  {
   "cell_type": "code",
   "execution_count": 13,
   "metadata": {},
   "outputs": [
    {
     "name": "stderr",
     "output_type": "stream",
     "text": [
      "C:\\Users\\zl948\\AppData\\Local\\Temp\\ipykernel_96252\\1860208837.py:46: DeprecationWarning: The 'text' argument to find()-type methods is deprecated. Use 'string' instead.\n",
      "  research_section = soup.find('h3', text=\"研究领域和方向\")  # Header for research areas\n"
     ]
    },
    {
     "name": "stdout",
     "output_type": "stream",
     "text": [
      "Data saved to faculty_data.csv\n"
     ]
    },
    {
     "name": "stderr",
     "output_type": "stream",
     "text": [
      "C:\\Users\\zl948\\AppData\\Local\\Temp\\ipykernel_96252\\1860208837.py:61: DeprecationWarning: The 'text' argument to find()-type methods is deprecated. Use 'string' instead.\n",
      "  intro_section = soup.find('h3', text=\"个人简介\")  # Header for personal intro section\n"
     ]
    }
   ],
   "source": [
    "import requests\n",
    "from bs4 import BeautifulSoup\n",
    "import pandas as pd\n",
    "\n",
    "# Define the URL of the faculty page\n",
    "BASE_URL = \"https://pure.bit.edu.cn/zh/organisations/school-of-aerospace-engineering/persons/?page=\"\n",
    "\n",
    "# Function to scrape data from one page\n",
    "def scrape_page(page_number):\n",
    "    url = f\"{BASE_URL}{page_number}\"\n",
    "    response = requests.get(url)\n",
    "    if response.status_code != 200:\n",
    "        print(f\"Failed to fetch page {page_number}\")\n",
    "        return []\n",
    "    \n",
    "    soup = BeautifulSoup(response.text, 'html.parser')\n",
    "    faculty_data = []\n",
    "\n",
    "    # Find all faculty entries on the page\n",
    "    for person in soup.find_all('h3', class_='title'):\n",
    "        name = person.find('span').text.strip() if person.find('span') else \"N/A\"\n",
    "        \n",
    "        profile_url = person.find('a', href=True)['href'] if person.find('a', href=True) else \"N/A\"\n",
    "        # Fetch research interests from the profile page\n",
    "        research_interests = get_research_interests(profile_url) if profile_url else \"N/A\"\n",
    "        # fetch title\n",
    "        title = get_title(profile_url) if profile_url else \"N/A\"\n",
    "\n",
    "        faculty_data.append({\n",
    "            \"Name\": name,\n",
    "            \"Title\": title,\n",
    "            \"Profile URL\": profile_url,\n",
    "            \"Research Interests\": research_interests,\n",
    "        })\n",
    "        break\n",
    "    return faculty_data\n",
    "\n",
    "# Function to scrape research interests from a faculty profile\n",
    "def get_research_interests(profile_url):\n",
    "    response = requests.get(profile_url)\n",
    "    if response.status_code != 200:\n",
    "        print(f\"Failed to fetch profile: {profile_url}\")\n",
    "        return \"N/A\"\n",
    "\n",
    "    soup = BeautifulSoup(response.text, 'html.parser')\n",
    "    research_section = soup.find('h3', text=\"研究领域和方向\")  # Header for research areas\n",
    "    if research_section:\n",
    "        text_block = research_section.find_next('div', class_='textblock')\n",
    "        if text_block:\n",
    "            return text_block.text.strip().replace(\"\\n\", \" | \").replace(\",\", \" |\")\n",
    "    return \"N/A\"\n",
    "\n",
    "# Function to scrape title from a faculty profile\n",
    "def get_title(profile_url):\n",
    "    response = requests.get(profile_url)\n",
    "    if response.status_code != 200:\n",
    "        print(f\"Failed to fetch profile: {profile_url}\")\n",
    "        return \"N/A\"\n",
    "\n",
    "    soup = BeautifulSoup(response.text, 'html.parser')\n",
    "    intro_section = soup.find('h3', text=\"个人简介\")  # Header for personal intro section\n",
    "    if intro_section:\n",
    "        text_block = intro_section.find_next('div', class_='textblock')\n",
    "        if text_block:\n",
    "            # Look for the text after \"职 称：\"\n",
    "            title_info = text_block.text\n",
    "            # Extract text after \"职 称：\" (it may have some leading or trailing spaces)\n",
    "            title = title_info.split(\"职 称：\")[-1].split(\"\\n\")[0].strip()\n",
    "            return title\n",
    "    return \"N/A\"\n",
    "# Scrape data from all pages\n",
    "all_faculty_data = []\n",
    "for page in range(4):  # Adjust range based on the total number of pages\n",
    "    all_faculty_data.extend(scrape_page(page))\n",
    "    break\n",
    "\n",
    "# Convert data to a DataFrame\n",
    "df = pd.DataFrame(all_faculty_data)\n",
    "\n",
    "# Save the data to a CSV file\n",
    "df.to_csv(\"faculty_data.csv\", index=False, encoding='utf-8')\n",
    "print(\"Data saved to faculty_data.csv\")\n"
   ]
  }
 ],
 "metadata": {
  "kernelspec": {
   "display_name": "Python 3",
   "language": "python",
   "name": "python3"
  },
  "language_info": {
   "codemirror_mode": {
    "name": "ipython",
    "version": 3
   },
   "file_extension": ".py",
   "mimetype": "text/x-python",
   "name": "python",
   "nbconvert_exporter": "python",
   "pygments_lexer": "ipython3",
   "version": "3.9.19"
  }
 },
 "nbformat": 4,
 "nbformat_minor": 2
}
