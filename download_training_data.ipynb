{
 "cells": [
  {
   "cell_type": "code",
   "execution_count": 13,
   "metadata": {},
   "outputs": [
    {
     "ename": "AttributeError",
     "evalue": "'ImageTag' object has no attribute 'bounding_box'",
     "output_type": "error",
     "traceback": [
      "\u001b[1;31m---------------------------------------------------------------------------\u001b[0m",
      "\u001b[1;31mAttributeError\u001b[0m                            Traceback (most recent call last)",
      "Cell \u001b[1;32mIn[13], line 36\u001b[0m\n\u001b[0;32m     34\u001b[0m \u001b[38;5;28;01mwith\u001b[39;00m \u001b[38;5;28mopen\u001b[39m(\u001b[38;5;124mf\u001b[39m\u001b[38;5;124m\"\u001b[39m\u001b[38;5;132;01m{\u001b[39;00moutput_dir\u001b[38;5;132;01m}\u001b[39;00m\u001b[38;5;124m/\u001b[39m\u001b[38;5;132;01m{\u001b[39;00mimg_id\u001b[38;5;132;01m}\u001b[39;00m\u001b[38;5;124m.txt\u001b[39m\u001b[38;5;124m\"\u001b[39m, \u001b[38;5;124m\"\u001b[39m\u001b[38;5;124mw\u001b[39m\u001b[38;5;124m\"\u001b[39m) \u001b[38;5;28;01mas\u001b[39;00m label_file:\n\u001b[0;32m     35\u001b[0m     \u001b[38;5;28;01mfor\u001b[39;00m tag \u001b[38;5;129;01min\u001b[39;00m img\u001b[38;5;241m.\u001b[39mtags:\n\u001b[1;32m---> 36\u001b[0m         \u001b[38;5;28;01mif\u001b[39;00m \u001b[43mtag\u001b[49m\u001b[38;5;241;43m.\u001b[39;49m\u001b[43mbounding_box\u001b[49m:\n\u001b[0;32m     37\u001b[0m             left \u001b[38;5;241m=\u001b[39m tag\u001b[38;5;241m.\u001b[39mbounding_box\u001b[38;5;241m.\u001b[39mleft \u001b[38;5;241m*\u001b[39m width\n\u001b[0;32m     38\u001b[0m             top \u001b[38;5;241m=\u001b[39m tag\u001b[38;5;241m.\u001b[39mbounding_box\u001b[38;5;241m.\u001b[39mtop \u001b[38;5;241m*\u001b[39m height\n",
      "\u001b[1;31mAttributeError\u001b[0m: 'ImageTag' object has no attribute 'bounding_box'"
     ]
    }
   ],
   "source": [
    "from azure.cognitiveservices.vision.customvision.training import CustomVisionTrainingClient\n",
    "from msrest.authentication import ApiKeyCredentials\n",
    "import os\n",
    "import requests\n",
    "\n",
    "# Replace with your Custom Vision details\n",
    "ENDPOINT = \"https://beeml2.cognitiveservices.azure.com/\"\n",
    "TRAINING_KEY = \"1c333c79890749298585bea11781f890\"\n",
    "PROJECT_ID = \"10d0f2e6-03e6-4594-9433-7b6d4f3f451d\"\n",
    "\n",
    "# Authenticate\n",
    "credentials = ApiKeyCredentials(in_headers={\"Training-key\": TRAINING_KEY})\n",
    "trainer = CustomVisionTrainingClient(ENDPOINT, credentials)\n",
    "\n",
    "# Create output directory\n",
    "output_dir = \"exported_images\"\n",
    "os.makedirs(output_dir, exist_ok=True)\n",
    "\n",
    "# Get all images with bounding box info\n",
    "images = trainer.get_tagged_images(PROJECT_ID)\n",
    "\n",
    "for img in images:\n",
    "    img_url = img.original_image_uri\n",
    "    img_id = img.id\n",
    "    width = img.width\n",
    "    height = img.height\n",
    "\n",
    "    # Download the image\n",
    "    img_data = requests.get(img_url).content\n",
    "    with open(f\"{output_dir}/{img_id}.jpg\", \"wb\") as handler:\n",
    "        handler.write(img_data)\n",
    "\n",
    "    # Save labels in YOLO format (class x_center y_center width height)\n",
    "    with open(f\"{output_dir}/{img_id}.txt\", \"w\") as label_file:\n",
    "        for tag in img.tags:\n",
    "            if tag.bounding_box:\n",
    "                left = tag.bounding_box.left * width\n",
    "                top = tag.bounding_box.top * height\n",
    "                box_width = tag.bounding_box.width * width\n",
    "                box_height = tag.bounding_box.height * height\n",
    "\n",
    "                # Convert to YOLO format (normalized)\n",
    "                x_center = (left + box_width / 2) / width\n",
    "                y_center = (top + box_height / 2) / height\n",
    "                w = box_width / width\n",
    "                h = box_height / height\n",
    "\n",
    "                label_file.write(f\"{tag.tag_id} {x_center:.6f} {y_center:.6f} {w:.6f} {h:.6f}\\n\")\n",
    "\n",
    "    print(f\"Downloaded {img_id}.jpg with labels and bounding boxes.\")\n",
    "\n",
    "print(\"✅ Export complete!\")\n"
   ]
  },
  {
   "cell_type": "code",
   "execution_count": 19,
   "metadata": {},
   "outputs": [
    {
     "name": "stdout",
     "output_type": "stream",
     "text": [
      "{'additional_properties': {}, 'region_id': '5ae7c513-e38a-4178-9177-699b29ef30eb', 'tag_name': 'bad_egg', 'created': datetime.datetime(2025, 3, 4, 22, 28, 11, 306495), 'tag_id': '62988574-c62f-47c6-b27a-b47c5eb5ab30', 'left': 0.19160928, 'top': 0.04231696, 'width': 0.32744378, 'height': 0.3069316}\n",
      "{'additional_properties': {}, 'region_id': '68a128f8-ca49-44ef-ad3d-e4b20a9e62f5', 'tag_name': 'big_good_egg', 'created': datetime.datetime(2025, 3, 4, 22, 28, 11, 306495), 'tag_id': '2219cae2-3cb2-441b-bfad-30af40562073', 'left': 0.35835105, 'top': 0.2930338, 'width': 0.36180425, 'height': 0.32937708}\n",
      "{'additional_properties': {}, 'region_id': 'b7a67193-08de-48df-a431-2d3b15a4ae1a', 'tag_name': 'good_egg', 'created': datetime.datetime(2025, 3, 4, 22, 50, 0, 874904), 'tag_id': 'a1c794a9-9313-41cc-abe8-4810c6a7794f', 'left': 0.0018590838, 'top': 0.0, 'width': 0.28583425, 'height': 0.15151855}\n"
     ]
    }
   ],
   "source": [
    "for kw in img.regions:\n",
    "    print(kw)"
   ]
  },
  {
   "cell_type": "code",
   "execution_count": 10,
   "metadata": {},
   "outputs": [
    {
     "data": {
      "text/plain": [
       "datetime.datetime(2025, 3, 4, 22, 27, 47, 148159)"
      ]
     },
     "execution_count": 10,
     "metadata": {},
     "output_type": "execute_result"
    }
   ],
   "source": [
    "img.created"
   ]
  }
 ],
 "metadata": {
  "kernelspec": {
   "display_name": "py39",
   "language": "python",
   "name": "python3"
  },
  "language_info": {
   "codemirror_mode": {
    "name": "ipython",
    "version": 3
   },
   "file_extension": ".py",
   "mimetype": "text/x-python",
   "name": "python",
   "nbconvert_exporter": "python",
   "pygments_lexer": "ipython3",
   "version": "3.9.21"
  }
 },
 "nbformat": 4,
 "nbformat_minor": 2
}
