{
 "cells": [
  {
   "cell_type": "code",
   "execution_count": 2,
   "metadata": {},
   "outputs": [
    {
     "name": "stdout",
     "output_type": "stream",
     "text": [
      "Downloaded f3a5fb1e-c18e-4929-8c8d-6a3209d3b6e3.jpg with labels and bounding boxes.\n",
      "Downloaded c6e8d856-5ca3-4c3f-bbc6-19fa353c499c.jpg with labels and bounding boxes.\n",
      "Downloaded 3680f201-1332-400d-b53b-150331e38970.jpg with labels and bounding boxes.\n",
      "Downloaded 832722a6-0e0b-4e2e-ae88-ffed4a84c98c.jpg with labels and bounding boxes.\n",
      "Downloaded 6b9b7397-edeb-45fa-bb47-0388bc37aaf6.jpg with labels and bounding boxes.\n",
      "Downloaded ce462929-4ba4-4402-9ae1-05a72cea5b46.jpg with labels and bounding boxes.\n",
      "Downloaded b63d8dab-56de-4dd7-81dd-26b14af000c0.jpg with labels and bounding boxes.\n",
      "Downloaded 60889527-daa4-49df-aea3-76a2530d6626.jpg with labels and bounding boxes.\n",
      "Downloaded c78c6101-be60-4045-9c88-edfa5d5f50e3.jpg with labels and bounding boxes.\n",
      "Downloaded 6591f587-0976-48fb-8cec-ea998d73d919.jpg with labels and bounding boxes.\n",
      "Downloaded e59d45ea-96e4-4439-8118-b6b0e15bbad0.jpg with labels and bounding boxes.\n",
      "Downloaded fd0f47e7-12be-4d96-b14d-55b78bbb3f09.jpg with labels and bounding boxes.\n",
      "Downloaded fc943bee-a59d-4b93-92a5-c7c8e42b2a99.jpg with labels and bounding boxes.\n",
      "Downloaded 7ee7447e-8aec-4932-bd34-eaed3dd17296.jpg with labels and bounding boxes.\n",
      "Downloaded 14ba05cc-fcb2-400d-aeff-b399554c8da7.jpg with labels and bounding boxes.\n",
      "Downloaded d585f161-58ea-4cbc-ba44-bc9b42c88c96.jpg with labels and bounding boxes.\n",
      "Downloaded 7240105e-636d-4145-b1e5-9c973a4e265b.jpg with labels and bounding boxes.\n",
      "Downloaded 250e1cc1-35fd-40fe-941a-9b7eda920888.jpg with labels and bounding boxes.\n",
      "Downloaded 657f75ad-8fba-47c9-8d9c-01764ba9d9a9.jpg with labels and bounding boxes.\n",
      "Downloaded aaafd5af-d41c-44c2-94d9-010d416548c5.jpg with labels and bounding boxes.\n",
      "Downloaded 7a5c34e8-62ea-4bcc-a09a-bf4ea3e13288.jpg with labels and bounding boxes.\n",
      "Downloaded 2fee4a98-abf9-49ac-96a9-d8c6564707a6.jpg with labels and bounding boxes.\n",
      "Downloaded 5bceb01d-8ad0-4962-9f6a-536c9187b0ba.jpg with labels and bounding boxes.\n",
      "Downloaded 86b0ecd2-a79b-46a2-8db8-b7b3d149b0ae.jpg with labels and bounding boxes.\n",
      "Downloaded 32ae027b-59b4-43d8-9a24-63a3bba4fbab.jpg with labels and bounding boxes.\n",
      "Downloaded 1af625da-5d66-4239-b57c-11cdf9e10ecd.jpg with labels and bounding boxes.\n",
      "Downloaded 42624137-bd3e-4555-808d-9982df46e874.jpg with labels and bounding boxes.\n",
      "Downloaded d813551b-ddba-4b06-afbe-8173e5adc2ec.jpg with labels and bounding boxes.\n",
      "Downloaded 5ca365ed-5b64-4323-af89-75c578634f4e.jpg with labels and bounding boxes.\n",
      "Downloaded 64e3f4e9-3c05-4f21-b895-41fbcaf1d990.jpg with labels and bounding boxes.\n",
      "Downloaded e63172aa-93a9-461f-9bd6-1584153756b4.jpg with labels and bounding boxes.\n",
      "Downloaded 5a043a31-c94c-4a8d-83f3-eb9fff202aad.jpg with labels and bounding boxes.\n",
      "Downloaded 6d3b3086-2631-4a56-90fb-7cb49a55ce17.jpg with labels and bounding boxes.\n",
      "Downloaded bcd8d183-90d9-4b1c-b35a-30d3c5e4707b.jpg with labels and bounding boxes.\n",
      "Downloaded 5cf01c1c-8757-41fd-acec-12b9af63c3fa.jpg with labels and bounding boxes.\n",
      "Downloaded 65623077-f47d-4eb9-98e9-36d57e29c86c.jpg with labels and bounding boxes.\n",
      "Downloaded b98623a6-1f03-42d5-97ea-6600b7ed084a.jpg with labels and bounding boxes.\n",
      "Downloaded bb2ade46-0284-4412-bfa8-258455ef87d1.jpg with labels and bounding boxes.\n",
      "Downloaded cf6229c0-7a14-422c-aa78-2fc22031da3e.jpg with labels and bounding boxes.\n",
      "Downloaded cc462ce2-ff09-4b89-af88-557874644b87.jpg with labels and bounding boxes.\n",
      "Downloaded 8721d499-055d-4914-89a2-fe993a4a9de6.jpg with labels and bounding boxes.\n",
      "Downloaded 0647ed3b-2c62-4663-9d76-e2691d5427eb.jpg with labels and bounding boxes.\n",
      "Downloaded 470bdbe1-6267-48f3-ad87-3a457ffc0889.jpg with labels and bounding boxes.\n",
      "Downloaded 8857d753-cdd2-429c-b257-c330a9e7a4d1.jpg with labels and bounding boxes.\n",
      "Downloaded e3ebb629-5027-40b6-ad10-975d96ebe5e0.jpg with labels and bounding boxes.\n",
      "Downloaded 5acdbd99-ded0-4f8d-991b-215cdd9ed3cc.jpg with labels and bounding boxes.\n",
      "Downloaded 611c76fa-7fe9-4cda-80b9-543092649a35.jpg with labels and bounding boxes.\n",
      "Downloaded 7d2fff4a-2e06-421c-a5a1-fbda5a0e5f2d.jpg with labels and bounding boxes.\n",
      "Downloaded 1445cb45-690e-4ca1-900d-1924dafdbd81.jpg with labels and bounding boxes.\n",
      "Downloaded 8e9dad65-ccd2-432f-b67e-cc6eca809aa0.jpg with labels and bounding boxes.\n",
      "✅ Export complete!\n"
     ]
    }
   ],
   "source": [
    "from azure.cognitiveservices.vision.customvision.training import CustomVisionTrainingClient\n",
    "from msrest.authentication import ApiKeyCredentials\n",
    "import os\n",
    "import requests\n",
    "\n",
    "# Replace with your Custom Vision details\n",
    "ENDPOINT = \"https://beeml2.cognitiveservices.azure.com/\"\n",
    "TRAINING_KEY = \"1c333c79890749298585bea11781f890\"\n",
    "PROJECT_ID = \"10d0f2e6-03e6-4594-9433-7b6d4f3f451d\"\n",
    "\n",
    "# Authenticate\n",
    "credentials = ApiKeyCredentials(in_headers={\"Training-key\": TRAINING_KEY})\n",
    "trainer = CustomVisionTrainingClient(ENDPOINT, credentials)\n",
    "\n",
    "# Create output directory\n",
    "output_dir = \"exported_images\"\n",
    "os.makedirs(output_dir, exist_ok=True)\n",
    "\n",
    "# Get all images with bounding box info\n",
    "images = trainer.get_tagged_images(PROJECT_ID)\n",
    "\n",
    "for img in images:\n",
    "    img_url = img.original_image_uri\n",
    "    img_id = img.id\n",
    "    width = img.width\n",
    "    height = img.height\n",
    "\n",
    "    # Download the image\n",
    "    img_data = requests.get(img_url).content\n",
    "    with open(f\"{output_dir}/{img_id}.jpg\", \"wb\") as handler:\n",
    "        handler.write(img_data)\n",
    "\n",
    "    print(f\"Downloaded {img_id}.jpg with labels and bounding boxes.\")\n",
    "\n",
    "print(\"✅ Export complete!\")\n"
   ]
  },
  {
   "cell_type": "code",
   "execution_count": 19,
   "metadata": {},
   "outputs": [
    {
     "name": "stdout",
     "output_type": "stream",
     "text": [
      "{'additional_properties': {}, 'region_id': '5ae7c513-e38a-4178-9177-699b29ef30eb', 'tag_name': 'bad_egg', 'created': datetime.datetime(2025, 3, 4, 22, 28, 11, 306495), 'tag_id': '62988574-c62f-47c6-b27a-b47c5eb5ab30', 'left': 0.19160928, 'top': 0.04231696, 'width': 0.32744378, 'height': 0.3069316}\n",
      "{'additional_properties': {}, 'region_id': '68a128f8-ca49-44ef-ad3d-e4b20a9e62f5', 'tag_name': 'big_good_egg', 'created': datetime.datetime(2025, 3, 4, 22, 28, 11, 306495), 'tag_id': '2219cae2-3cb2-441b-bfad-30af40562073', 'left': 0.35835105, 'top': 0.2930338, 'width': 0.36180425, 'height': 0.32937708}\n",
      "{'additional_properties': {}, 'region_id': 'b7a67193-08de-48df-a431-2d3b15a4ae1a', 'tag_name': 'good_egg', 'created': datetime.datetime(2025, 3, 4, 22, 50, 0, 874904), 'tag_id': 'a1c794a9-9313-41cc-abe8-4810c6a7794f', 'left': 0.0018590838, 'top': 0.0, 'width': 0.28583425, 'height': 0.15151855}\n"
     ]
    }
   ],
   "source": [
    "for kw in img.regions:\n",
    "    print(kw)"
   ]
  },
  {
   "cell_type": "code",
   "execution_count": 10,
   "metadata": {},
   "outputs": [
    {
     "data": {
      "text/plain": [
       "datetime.datetime(2025, 3, 4, 22, 27, 47, 148159)"
      ]
     },
     "execution_count": 10,
     "metadata": {},
     "output_type": "execute_result"
    }
   ],
   "source": [
    "img.created"
   ]
  }
 ],
 "metadata": {
  "kernelspec": {
   "display_name": "py39",
   "language": "python",
   "name": "python3"
  },
  "language_info": {
   "codemirror_mode": {
    "name": "ipython",
    "version": 3
   },
   "file_extension": ".py",
   "mimetype": "text/x-python",
   "name": "python",
   "nbconvert_exporter": "python",
   "pygments_lexer": "ipython3",
   "version": "3.9.21"
  }
 },
 "nbformat": 4,
 "nbformat_minor": 2
}
